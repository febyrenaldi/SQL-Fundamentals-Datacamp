{
 "cells": [
  {
   "attachments": {},
   "cell_type": "markdown",
   "metadata": {},
   "source": [
    "Sorting single fields"
   ]
  },
  {
   "cell_type": "code",
   "execution_count": null,
   "metadata": {
    "vscode": {
     "languageId": "sql"
    }
   },
   "outputs": [],
   "source": [
    "-- Select name from people and sort alphabetically\n",
    "SELECT name\n",
    "FROM people\n",
    "ORDER BY name;"
   ]
  },
  {
   "cell_type": "code",
   "execution_count": null,
   "metadata": {
    "vscode": {
     "languageId": "sql"
    }
   },
   "outputs": [],
   "source": [
    "-- Select the title and duration from longest to shortest film\n",
    "SELECT\n",
    "    title,\n",
    "    duration\n",
    "FROM films\n",
    "ORDER BY duration DESC;"
   ]
  },
  {
   "attachments": {},
   "cell_type": "markdown",
   "metadata": {},
   "source": [
    "Sorting multiple fields"
   ]
  },
  {
   "cell_type": "code",
   "execution_count": null,
   "metadata": {
    "vscode": {
     "languageId": "sql"
    }
   },
   "outputs": [],
   "source": [
    "-- Select the release year, duration, and title sorted by release year and duration\n",
    "SELECT\n",
    "    release_year,\n",
    "    duration,\n",
    "    title\n",
    "FROM films\n",
    "ORDER BY\n",
    "    release_year,\n",
    "    duration;"
   ]
  },
  {
   "cell_type": "code",
   "execution_count": null,
   "metadata": {
    "vscode": {
     "languageId": "sql"
    }
   },
   "outputs": [],
   "source": [
    "-- Select the certification, release year, and title sorted by certification and release year\n",
    "SELECT\n",
    "    certification,\n",
    "    release_year,\n",
    "    title\n",
    "FROM films\n",
    "ORDER BY\n",
    "    certification,\n",
    "    release_year DESC;"
   ]
  },
  {
   "attachments": {},
   "cell_type": "markdown",
   "metadata": {},
   "source": [
    "GROUP BY single fields"
   ]
  },
  {
   "cell_type": "code",
   "execution_count": null,
   "metadata": {
    "vscode": {
     "languageId": "sql"
    }
   },
   "outputs": [],
   "source": [
    "-- Find the release_year and film_count of each year\n",
    "SELECT\n",
    "    release_year,\n",
    "    COUNT(*) AS film_count\n",
    "FROM films\n",
    "GROUP BY release_year;"
   ]
  },
  {
   "cell_type": "code",
   "execution_count": null,
   "metadata": {
    "vscode": {
     "languageId": "sql"
    }
   },
   "outputs": [],
   "source": [
    "-- Find the release_year and average duration of films for each year\n",
    "SELECT\n",
    "    release_year,\n",
    "    AVG(duration) AS avg_duration\n",
    "FROM films\n",
    "GROUP BY release_year;"
   ]
  },
  {
   "attachments": {},
   "cell_type": "markdown",
   "metadata": {},
   "source": [
    "GROUP BY multiple fields"
   ]
  },
  {
   "cell_type": "code",
   "execution_count": null,
   "metadata": {
    "vscode": {
     "languageId": "sql"
    }
   },
   "outputs": [],
   "source": [
    "-- Find the release_year, country, and max_budget, then group and order by release_year and country\n",
    "SELECT\n",
    "    release_year,\n",
    "    country,\n",
    "    MAX(budget) AS max_budget\n",
    "FROM films\n",
    "GROUP BY release_year, country\n",
    "ORDER BY release_year, country;"
   ]
  },
  {
   "attachments": {},
   "cell_type": "markdown",
   "metadata": {},
   "source": [
    "Answering business questions"
   ]
  },
  {
   "cell_type": "code",
   "execution_count": null,
   "metadata": {
    "vscode": {
     "languageId": "sql"
    }
   },
   "outputs": [],
   "source": [
    "SELECT\n",
    "    release_year,\n",
    "    COUNT(DISTINCT language) AS language_count\n",
    "FROM films\n",
    "GROUP BY release_year\n",
    "ORDER BY release_year ;"
   ]
  },
  {
   "attachments": {},
   "cell_type": "markdown",
   "metadata": {},
   "source": [
    "Filter with HAVING"
   ]
  },
  {
   "cell_type": "code",
   "execution_count": null,
   "metadata": {
    "vscode": {
     "languageId": "sql"
    }
   },
   "outputs": [],
   "source": [
    "-- Select the country and distinct count of certification as certification_count\n",
    "SELECT\n",
    "    country,\n",
    "    COUNT(DISTINCT certification) AS certification_count\n",
    "FROM films\n",
    "-- Group by country\n",
    "GROUP BY country\n",
    "-- Filter results to countries with more than 10 different certifications\n",
    "HAVING COUNT(DISTINCT certification) > 10;"
   ]
  },
  {
   "attachments": {},
   "cell_type": "markdown",
   "metadata": {},
   "source": [
    "HAVING and sorting"
   ]
  },
  {
   "cell_type": "code",
   "execution_count": null,
   "metadata": {
    "vscode": {
     "languageId": "sql"
    }
   },
   "outputs": [],
   "source": [
    "-- Select the country and average_budget from films\n",
    "SELECT\n",
    "    country,\n",
    "    ROUND(AVG(budget), 2) AS average_budget\n",
    "FROM films\n",
    "-- Group by country\n",
    "GROUP BY country\n",
    "-- Filter to countries with an average_budget of more than one billion\n",
    "HAVING AVG(budget) > 1000000000\n",
    "-- Order by descending order of the aggregated budget\n",
    "ORDER BY average_budget DESC;"
   ]
  },
  {
   "attachments": {},
   "cell_type": "markdown",
   "metadata": {},
   "source": [
    "All together now"
   ]
  },
  {
   "cell_type": "code",
   "execution_count": null,
   "metadata": {
    "vscode": {
     "languageId": "sql"
    }
   },
   "outputs": [],
   "source": [
    "-- Select the budget for films released after 1990 grouped by year\n",
    "SELECT release_year\n",
    "FROM films\n",
    "WHERE release_year > 1990\n",
    "GROUP BY release_year;"
   ]
  },
  {
   "cell_type": "code",
   "execution_count": null,
   "metadata": {
    "vscode": {
     "languageId": "sql"
    }
   },
   "outputs": [],
   "source": [
    "-- Modify the query to also list the average budget and average gross\n",
    "SELECT\n",
    "    release_year,\n",
    "    AVG(budget) AS avg_budget,\n",
    "    AVG(gross) AS avg_gross\n",
    "FROM films\n",
    "WHERE release_year > 1990\n",
    "GROUP BY release_year;"
   ]
  },
  {
   "cell_type": "code",
   "execution_count": null,
   "metadata": {
    "vscode": {
     "languageId": "sql"
    }
   },
   "outputs": [],
   "source": [
    "SELECT\n",
    "    release_year,\n",
    "    AVG(budget) AS avg_budget,\n",
    "    AVG(gross) avg_gross\n",
    "FROM films\n",
    "WHERE release_year > 1990\n",
    "GROUP BY release_year\n",
    "-- Modify the query to see only years with an avg_budget of more than 60 million\n",
    "HAVING AVG(budget) > 60000000;"
   ]
  },
  {
   "cell_type": "code",
   "execution_count": null,
   "metadata": {
    "vscode": {
     "languageId": "sql"
    }
   },
   "outputs": [],
   "source": [
    "SELECT \n",
    "    release_year, \n",
    "    AVG(budget) AS avg_budget, \n",
    "    AVG(gross) AS avg_gross\n",
    "FROM films\n",
    "WHERE release_year > 1990\n",
    "GROUP BY release_year\n",
    "HAVING AVG(budget) > 60000000\n",
    "-- Order the results from highest to lowest average gross and limit to one\n",
    "ORDER BY avg_gross DESC\n",
    "LIMIT 1;"
   ]
  }
 ],
 "metadata": {
  "kernelspec": {
   "display_name": "Python 3",
   "language": "python",
   "name": "python3"
  },
  "language_info": {
   "name": "python",
   "version": "3.10.0 (tags/v3.10.0:b494f59, Oct  4 2021, 19:00:18) [MSC v.1929 64 bit (AMD64)]"
  },
  "orig_nbformat": 4,
  "vscode": {
   "interpreter": {
    "hash": "df95319d8ce4e1d89f5365ae10992bc1f65da593082b1d264e8f529830ec2f02"
   }
  }
 },
 "nbformat": 4,
 "nbformat_minor": 2
}
