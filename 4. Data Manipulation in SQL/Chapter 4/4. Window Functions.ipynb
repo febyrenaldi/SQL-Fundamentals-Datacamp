{
 "cells": [
  {
   "attachments": {},
   "cell_type": "markdown",
   "metadata": {},
   "source": [
    "The match is OVER"
   ]
  },
  {
   "cell_type": "code",
   "execution_count": null,
   "metadata": {
    "vscode": {
     "languageId": "sql"
    }
   },
   "outputs": [],
   "source": [
    "SELECT \n",
    "\t-- Select the id, country name, season, home, and away goals\n",
    "\tm.id,\n",
    "\tc.name AS country,\n",
    "\tm.season,\n",
    "\tm.home_goal,\n",
    "\tm.away_goal,\n",
    "    -- Use a window to include the aggregate average in each row\n",
    "\tAVG(m.home_goal + m.away_goal) OVER() AS overall_avg\n",
    "FROM match AS m\n",
    "LEFT JOIN country AS c ON m.country_id = c.id;"
   ]
  },
  {
   "attachments": {},
   "cell_type": "markdown",
   "metadata": {},
   "source": [
    "What's OVER here?"
   ]
  },
  {
   "cell_type": "code",
   "execution_count": null,
   "metadata": {
    "vscode": {
     "languageId": "sql"
    }
   },
   "outputs": [],
   "source": [
    "SELECT \n",
    "\t-- Select the league name and average goals scored\n",
    "\tl.name AS league,\n",
    "    AVG(m.home_goal + m.away_goal) AS avg_goals,\n",
    "    -- Rank each league according to the average goals\n",
    "    RANK() OVER(ORDER BY AVG(m.home_goal + m.away_goal)) AS league_rank\n",
    "FROM league AS l\n",
    "LEFT JOIN match AS m \n",
    "ON l.id = m.country_id\n",
    "WHERE m.season = '2011/2012'\n",
    "GROUP BY l.name\n",
    "-- Order the query by the rank you created\n",
    "ORDER BY league_rank;"
   ]
  },
  {
   "attachments": {},
   "cell_type": "markdown",
   "metadata": {},
   "source": [
    "Flip OVER your results"
   ]
  },
  {
   "cell_type": "code",
   "execution_count": null,
   "metadata": {
    "vscode": {
     "languageId": "sql"
    }
   },
   "outputs": [],
   "source": [
    "SELECT \n",
    "\t-- Select the league name and average goals scored\n",
    "\tl.name AS league,\n",
    "    AVG(m.home_goal + m.away_goal) AS avg_goals,\n",
    "    -- Rank leagues in descending order by average goals\n",
    "    RANK() OVER(ORDER BY AVG(m.home_goal + m.away_goal) DESC) AS league_rank\n",
    "FROM league AS l\n",
    "LEFT JOIN match AS m \n",
    "ON l.id = m.country_id\n",
    "WHERE m.season = '2011/2012'\n",
    "GROUP BY l.name\n",
    "-- Order the query by the rank you created\n",
    "ORDER BY league_rank;"
   ]
  },
  {
   "attachments": {},
   "cell_type": "markdown",
   "metadata": {},
   "source": [
    "PARTITION BY a column"
   ]
  },
  {
   "cell_type": "code",
   "execution_count": null,
   "metadata": {
    "vscode": {
     "languageId": "sql"
    }
   },
   "outputs": [],
   "source": [
    "SELECT\n",
    "\tdate,\n",
    "\tseason,\n",
    "\thome_goal,\n",
    "\taway_goal,\n",
    "    home_goal + away_goal AS total_goals,\n",
    "\tCASE WHEN hometeam_id = 8673 THEN 'home' \n",
    "\t\t ELSE 'away' END AS warsaw_location,\n",
    "    -- Calculate the average goals scored partitioned by season\n",
    "    AVG(home_goal) OVER(PARTITION BY season) AS season_homeavg,\n",
    "    AVG(away_goal) OVER(PARTITION BY season) AS season_awayavg\n",
    "FROM match\n",
    "-- Filter the data set for Legia Warszawa matches only\n",
    "WHERE \n",
    "\thometeam_id = 8673 \n",
    "    OR awayteam_id = 8673 \n",
    "ORDER BY (total_goals) DESC;"
   ]
  },
  {
   "attachments": {},
   "cell_type": "markdown",
   "metadata": {},
   "source": [
    "PARTITION BY multiple columns"
   ]
  },
  {
   "cell_type": "code",
   "execution_count": null,
   "metadata": {
    "vscode": {
     "languageId": "sql"
    }
   },
   "outputs": [],
   "source": [
    "SELECT \n",
    "\tdate,\n",
    "    season,\n",
    "    home_goal,\n",
    "    away_goal,\n",
    "    home_goal + away_goal AS total_goals,\n",
    "    CASE WHEN hometeam_id = 8673 THEN 'home' \n",
    "         ELSE 'away' END AS warsaw_location,\n",
    "    -- Calculate average goals partitioned by season and month\n",
    "    AVG(home_goal) OVER(PARTITION BY season, \n",
    "         \tEXTRACT(MONTH FROM date)) AS season_mo_home,\n",
    "    AVG(away_goal) OVER(PARTITION BY season, \n",
    "            EXTRACT(MONTH FROM date)) AS season_mo_away\n",
    "FROM match\n",
    "WHERE \n",
    "\thometeam_id = 8673 OR awayteam_id = 8673\n",
    "ORDER BY (total_goals) DESC;"
   ]
  },
  {
   "attachments": {},
   "cell_type": "markdown",
   "metadata": {},
   "source": [
    "Slide to the left"
   ]
  },
  {
   "cell_type": "code",
   "execution_count": null,
   "metadata": {
    "vscode": {
     "languageId": "sql"
    }
   },
   "outputs": [],
   "source": [
    "SELECT \n",
    "\tdate,\n",
    "\thome_goal,\n",
    "\taway_goal,\n",
    "    -- Create a running total and running average of home goals\n",
    "\tSUM(home_goal) OVER(ORDER BY date \n",
    "        ROWS BETWEEN UNBOUNDED PRECEDING AND CURRENT ROW) AS running_total,\n",
    "    AVG(home_goal) OVER(ORDER BY date \n",
    "        ROWS BETWEEN UNBOUNDED PRECEDING AND CURRENT ROW) AS running_avg\n",
    "FROM match\n",
    "WHERE hometeam_id = 9908 AND season = '2011/2012';"
   ]
  },
  {
   "attachments": {},
   "cell_type": "markdown",
   "metadata": {},
   "source": [
    "Slide to the right"
   ]
  },
  {
   "cell_type": "code",
   "execution_count": null,
   "metadata": {
    "vscode": {
     "languageId": "sql"
    }
   },
   "outputs": [],
   "source": [
    "SELECT \n",
    "\t-- Select the date, home goal, and away goals\n",
    "\tdate,\n",
    "\thome_goal,\n",
    "\taway_goal,\n",
    "    -- Create a running total and running average of home goals\n",
    "    SUM(home_goal) OVER(ORDER BY date DESC\n",
    "        ROWS BETWEEN CURRENT ROW AND UNBOUNDED FOLLOWING) AS running_total,\n",
    "    AVG(home_goal) OVER(ORDER BY date DESC\n",
    "        ROWS BETWEEN CURRENT ROW AND UNBOUNDED FOLLOWING) AS running_avg\n",
    "FROM match\n",
    "WHERE awayteam_id = 9908 AND season = '2011/2012';"
   ]
  },
  {
   "attachments": {},
   "cell_type": "markdown",
   "metadata": {},
   "source": [
    "Setting up the home team CTE"
   ]
  },
  {
   "cell_type": "code",
   "execution_count": null,
   "metadata": {
    "vscode": {
     "languageId": "sql"
    }
   },
   "outputs": [],
   "source": [
    "SELECT \n",
    "\tm.id, \n",
    "    t.team_long_name,\n",
    "    -- Identify matches as home/away wins or ties\n",
    "\tCASE WHEN m.home_goal > m.away_goal THEN 'MU Win'\n",
    "\t\t WHEN m.home_goal < m.away_goal THEN 'MU Loss'\n",
    "         ELSE 'Tie' END AS outcome\n",
    "FROM match AS m\n",
    "-- Left join team on the home team ID and team API id\n",
    "LEFT JOIN team AS t \n",
    "ON m.hometeam_id = t.team_api_id\n",
    "WHERE \n",
    "\t-- Filter for 2014/2015 and Manchester United as the home team\n",
    "\tm.season = '2014/2015' AND t.team_long_name = 'Manchester United';"
   ]
  },
  {
   "attachments": {},
   "cell_type": "markdown",
   "metadata": {},
   "source": [
    "Setting up the away team CTE"
   ]
  },
  {
   "cell_type": "code",
   "execution_count": null,
   "metadata": {
    "vscode": {
     "languageId": "sql"
    }
   },
   "outputs": [],
   "source": [
    "SELECT \n",
    "    m.id, \n",
    "\tt.team_long_name,\n",
    "    -- Identify matches as home/away wins or ties\n",
    "\tCASE WHEN m.home_goal > m.away_goal THEN 'MU Loss'\n",
    "\t\t WHEN m.home_goal < m.away_goal THEN 'MU Win' \n",
    "         ELSE 'Tie' END AS outcome\n",
    "-- Join team table to the match table\n",
    "FROM match AS m\n",
    "LEFT JOIN team AS t \n",
    "ON m.awayteam_id = t.team_api_id\n",
    "WHERE \n",
    "\t-- Filter for 2014/2015 and Manchester United as the away team\n",
    "\tm.season = '2014/2015' AND t.team_long_name = 'Manchester United';"
   ]
  },
  {
   "attachments": {},
   "cell_type": "markdown",
   "metadata": {},
   "source": [
    "Putting the CTEs together"
   ]
  },
  {
   "cell_type": "code",
   "execution_count": null,
   "metadata": {
    "vscode": {
     "languageId": "sql"
    }
   },
   "outputs": [],
   "source": [
    "-- Set up the home team CTE\n",
    "WITH home AS (\n",
    "  SELECT \n",
    "    m.id, \n",
    "    t.team_long_name,\n",
    "\tCASE WHEN m.home_goal > m.away_goal THEN 'MU Win'\n",
    "\t\t WHEN m.home_goal < m.away_goal THEN 'MU Loss' \n",
    "  \t\t ELSE 'Tie' END AS outcome\n",
    "  FROM match AS m\n",
    "  LEFT JOIN team AS t \n",
    "  ON m.hometeam_id = t.team_api_id),\n",
    "\n",
    "-- Set up the away team CTE\n",
    "away AS (\n",
    "  SELECT \n",
    "    m.id, \n",
    "    t.team_long_name,\n",
    "\tCASE WHEN m.home_goal > m.away_goal THEN 'MU Win'\n",
    "\t\t WHEN m.home_goal < m.away_goal THEN 'MU Loss' \n",
    "  \t\t ELSE 'Tie' END AS outcome\n",
    "  FROM match AS m\n",
    "  LEFT JOIN team AS t \n",
    "  ON m.awayteam_id = t.team_api_id)\n",
    "\n",
    "-- Select team names, the date and goals\n",
    "SELECT DISTINCT\n",
    "    m.date,\n",
    "    home.team_long_name AS home_team,\n",
    "    away.team_long_name AS away_team,\n",
    "    m.home_goal,\n",
    "    m.away_goal\n",
    "\n",
    "-- Join the CTEs onto the match table\n",
    "FROM match AS m\n",
    "LEFT JOIN home\n",
    "ON m.id = home.id\n",
    "LEFT JOIN away \n",
    "ON m.id = away.id\n",
    "WHERE m.season = '2014/2015'\n",
    "      AND (home.team_long_name = 'Manchester United' OR away.team_long_name = 'Manchester United');"
   ]
  },
  {
   "attachments": {},
   "cell_type": "markdown",
   "metadata": {},
   "source": [
    "Add a window function"
   ]
  },
  {
   "cell_type": "code",
   "execution_count": null,
   "metadata": {
    "vscode": {
     "languageId": "sql"
    }
   },
   "outputs": [],
   "source": [
    "-- Set up the home team CTE\n",
    "WITH home AS (\n",
    "  SELECT \n",
    "    m.id, \n",
    "    t.team_long_name,\n",
    "\tCASE WHEN m.home_goal > m.away_goal THEN 'MU Win'\n",
    "\t\t WHEN m.home_goal < m.away_goal THEN 'MU Loss' \n",
    "  \t     ELSE 'Tie' END AS outcome\n",
    "  FROM match AS m\n",
    "  LEFT JOIN team AS t \n",
    "  ON m.hometeam_id = t.team_api_id),\n",
    "\n",
    "-- Set up the away team CTE\n",
    "away AS (\n",
    "  SELECT \n",
    "    m.id, \n",
    "    t.team_long_name,\n",
    "\tCASE WHEN m.home_goal > m.away_goal THEN 'MU Loss'\n",
    "\t\t WHEN m.home_goal < m.away_goal THEN 'MU Win' \n",
    "  \t\tELSE 'Tie' END AS outcome\n",
    "  FROM match AS m\n",
    "  LEFT JOIN team AS t \n",
    "  ON m.awayteam_id = t.team_api_id)\n",
    "\n",
    "-- Select columns and and rank the matches by goal difference\n",
    "SELECT DISTINCT\n",
    "    m.date,\n",
    "    home.team_long_name AS home_team,\n",
    "    away.team_long_name AS away_team,\n",
    "    m.home_goal, m.away_goal,\n",
    "    RANK() OVER(ORDER BY ABS(home_goal - away_goal) DESC) AS match_rank\n",
    "\n",
    "-- Join the CTEs onto the match table\n",
    "FROM match AS m\n",
    "LEFT JOIN home \n",
    "ON m.id = home.id\n",
    "LEFT JOIN away \n",
    "ON m.id = away.id\n",
    "WHERE m.season = '2014/2015'\n",
    "      AND ((home.team_long_name = 'Manchester United' AND home.outcome = 'MU Loss')\n",
    "      OR (away.team_long_name = 'Manchester United' AND away.outcome = 'MU Loss'));"
   ]
  }
 ],
 "metadata": {
  "language_info": {
   "name": "python"
  },
  "orig_nbformat": 4
 },
 "nbformat": 4,
 "nbformat_minor": 2
}
