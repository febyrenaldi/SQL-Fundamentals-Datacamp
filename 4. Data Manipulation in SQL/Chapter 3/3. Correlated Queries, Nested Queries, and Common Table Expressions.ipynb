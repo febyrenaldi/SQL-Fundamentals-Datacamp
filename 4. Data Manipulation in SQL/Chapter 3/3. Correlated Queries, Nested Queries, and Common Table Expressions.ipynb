{
 "cells": [
  {
   "attachments": {},
   "cell_type": "markdown",
   "metadata": {},
   "source": [
    "Basic Correlated Subqueries"
   ]
  },
  {
   "cell_type": "code",
   "execution_count": null,
   "metadata": {
    "vscode": {
     "languageId": "sql"
    }
   },
   "outputs": [],
   "source": [
    "SELECT \n",
    "\t-- Select country ID, date, home, and away goals from match\n",
    "\tmain.country_id,\n",
    "    main.date,\n",
    "    main.home_goal, \n",
    "    main.away_goal\n",
    "FROM match AS main\n",
    "WHERE \n",
    "\t-- Filter the main query by the subquery\n",
    "\t(home_goal + away_goal) > \n",
    "        (SELECT AVG((sub.home_goal + sub.away_goal) * 3)\n",
    "         FROM match AS sub\n",
    "         -- Join the main query to the subquery in WHERE\n",
    "         WHERE main.country_id = sub.country_id);"
   ]
  },
  {
   "attachments": {},
   "cell_type": "markdown",
   "metadata": {},
   "source": [
    "Correlated subquery with multiple conditions"
   ]
  },
  {
   "cell_type": "code",
   "execution_count": null,
   "metadata": {
    "vscode": {
     "languageId": "sql"
    }
   },
   "outputs": [],
   "source": [
    "SELECT \n",
    "\t-- Select country ID, date, home, and away goals from match\n",
    "\tmain.country_id,\n",
    "    main.date,\n",
    "    main.season,\n",
    "    main.home_goal,\n",
    "    main.away_goal\n",
    "FROM match AS main\n",
    "WHERE \n",
    "\t-- Filter for matches with the highest number of goals scored\n",
    "\t(home_goal + away_goal) = \n",
    "        (SELECT MAX(sub.home_goal + sub.away_goal)\n",
    "         FROM match AS sub\n",
    "         WHERE main.country_id = sub.country_id\n",
    "               AND main.season = sub.season);"
   ]
  },
  {
   "attachments": {},
   "cell_type": "markdown",
   "metadata": {},
   "source": [
    "Nested simple subqueries"
   ]
  },
  {
   "cell_type": "code",
   "execution_count": null,
   "metadata": {
    "vscode": {
     "languageId": "sql"
    }
   },
   "outputs": [],
   "source": [
    "SELECT \n",
    "\t-- Select the season and max goals scored in a match\n",
    "\tseason,\n",
    "    MAX(home_goal + away_goal) AS max_goals,\n",
    "    -- Select the overall max goals scored in a match\n",
    "   (SELECT MAX(home_goal + away_goal) FROM match) AS overall_max_goals,\n",
    "    -- Select the max number of goals scored in any match in July\n",
    "   (SELECT MAX(home_goal + away_goal) \n",
    "        FROM match\n",
    "        WHERE id IN (\n",
    "              SELECT id FROM match WHERE EXTRACT(MONTH FROM date) = 07)) AS july_max_goals\n",
    "FROM match\n",
    "GROUP BY season;"
   ]
  },
  {
   "attachments": {},
   "cell_type": "markdown",
   "metadata": {},
   "source": [
    "Nest a subquery in FROM"
   ]
  },
  {
   "cell_type": "code",
   "execution_count": null,
   "metadata": {
    "vscode": {
     "languageId": "sql"
    }
   },
   "outputs": [],
   "source": [
    "-- Select matches where a team scored 5+ goals\n",
    "SELECT\n",
    "\tcountry_id,\n",
    "    season,\n",
    "\tid\n",
    "FROM match\n",
    "WHERE home_goal >= 5 OR away_goal >= 5;"
   ]
  },
  {
   "cell_type": "code",
   "execution_count": null,
   "metadata": {
    "vscode": {
     "languageId": "sql"
    }
   },
   "outputs": [],
   "source": [
    "-- Count match ids\n",
    "SELECT\n",
    "    country_id,\n",
    "    season,\n",
    "    COUNT(country_id) AS matches\n",
    "-- Set up and alias the subquery\n",
    "FROM (\n",
    "\tSELECT\n",
    "    \tcountry_id,\n",
    "    \tseason,\n",
    "    \tid\n",
    "\tFROM match\n",
    "\tWHERE home_goal >= 5 OR away_goal >= 5) \n",
    "    AS subquery\n",
    "-- Group by country_id and season\n",
    "GROUP BY country_id, season;"
   ]
  },
  {
   "cell_type": "code",
   "execution_count": null,
   "metadata": {
    "vscode": {
     "languageId": "sql"
    }
   },
   "outputs": [],
   "source": [
    "SELECT\n",
    "\tc.name AS country,\n",
    "    -- Calculate the average matches per season\n",
    "\tAVG(outer_s.matches) AS avg_seasonal_high_scores\n",
    "FROM country AS c\n",
    "-- Left join outer_s to country\n",
    "LEFT JOIN (\n",
    "  SELECT country_id, season,\n",
    "         COUNT(id) AS matches\n",
    "  FROM (\n",
    "    SELECT country_id, season, id\n",
    "\tFROM match\n",
    "\tWHERE home_goal >= 5 OR away_goal >= 5) AS inner_s\n",
    "  -- Close parentheses and alias the subquery\n",
    "  GROUP BY country_id, season) AS outer_s\n",
    "ON c.id = outer_s.country_id\n",
    "GROUP BY country;"
   ]
  },
  {
   "attachments": {},
   "cell_type": "markdown",
   "metadata": {},
   "source": [
    "Clean up with CTEs"
   ]
  },
  {
   "cell_type": "code",
   "execution_count": null,
   "metadata": {
    "vscode": {
     "languageId": "sql"
    }
   },
   "outputs": [],
   "source": [
    "-- Set up your CTE\n",
    "With match_list AS (\n",
    "    SELECT \n",
    "  \t\tcountry_id, \n",
    "  \t\tid\n",
    "    FROM match\n",
    "    WHERE (home_goal + away_goal) >= 10)\n",
    "-- Select league and count of matches from the CTE\n",
    "SELECT\n",
    "    l.name AS league,\n",
    "    COUNT(match_list.id) AS matches\n",
    "FROM league AS l\n",
    "-- Join the CTE to the league table\n",
    "LEFT JOIN match_list\n",
    "ON l.id = match_list.country_id\n",
    "GROUP BY l.name;"
   ]
  },
  {
   "attachments": {},
   "cell_type": "markdown",
   "metadata": {},
   "source": [
    "Organizing with CTEs"
   ]
  },
  {
   "cell_type": "code",
   "execution_count": null,
   "metadata": {
    "vscode": {
     "languageId": "sql"
    }
   },
   "outputs": [],
   "source": [
    "-- Step 1\n",
    "-- Set up your CTE\n",
    "WITH match_list AS (\n",
    "  -- Select the league, date, home, and away goals\n",
    "    SELECT \n",
    "  \t\tl.name AS league, \n",
    "     \tm.date, \n",
    "  \t\tm.home_goal, \n",
    "  \t\tm.away_goal,\n",
    "      (m.home_goal + m.away_goal) AS total_goals\n",
    "    FROM match AS m\n",
    "    LEFT JOIN league as l \n",
    "    ON m.country_id = l.id)\n",
    "\n",
    "-- Step 2 (No using index alias)\n",
    "-- Select the league, date, home, and away goals from the CTE\n",
    "SELECT \n",
    "  league, \n",
    "  date, \n",
    "  home_goal, \n",
    "  away_goal, \n",
    "  total_goals\n",
    "FROM match_list\n",
    "-- Filter by total goals\n",
    "WHERE total_goals >= 10;"
   ]
  },
  {
   "attachments": {},
   "cell_type": "markdown",
   "metadata": {},
   "source": [
    "CTEs with nested subqueries"
   ]
  },
  {
   "cell_type": "code",
   "execution_count": null,
   "metadata": {
    "vscode": {
     "languageId": "sql"
    }
   },
   "outputs": [],
   "source": [
    "-- Set up your CTE\n",
    "WITH match_list AS (\n",
    "    SELECT \n",
    "        id,\n",
    "        season,\n",
    "        country_id,\n",
    "        (home_goal + away_goal) AS total_goals\n",
    "    FROM match\n",
    "  \t-- Create a list of match IDs to filter data in the CTE\n",
    "    WHERE id IN (\n",
    "       SELECT id\n",
    "       FROM match\n",
    "       WHERE season = '2013/2014' AND EXTRACT(MONTH FROM date) = 08))\n",
    "-- Select the league name and average of goals in the CTE\n",
    "SELECT \n",
    "\tl.name,\n",
    "    AVG(match_list.total_goals)\n",
    "FROM league AS l\n",
    "-- Join the CTE onto the league table\n",
    "LEFT JOIN match_list \n",
    "ON l.id = match_list.country_id\n",
    "GROUP BY l.name;"
   ]
  },
  {
   "attachments": {},
   "cell_type": "markdown",
   "metadata": {},
   "source": [
    "Get team names with a subquery"
   ]
  },
  {
   "cell_type": "code",
   "execution_count": null,
   "metadata": {
    "vscode": {
     "languageId": "sql"
    }
   },
   "outputs": [],
   "source": [
    "SELECT \n",
    "\tm.id, \n",
    "    t.team_long_name AS hometeam\n",
    "-- Left join team to match\n",
    "FROM match AS m\n",
    "LEFT JOIN team as t\n",
    "ON m.hometeam_id = team_api_id;"
   ]
  },
  {
   "cell_type": "code",
   "execution_count": null,
   "metadata": {
    "vscode": {
     "languageId": "sql"
    }
   },
   "outputs": [],
   "source": [
    "SELECT\n",
    "\t  m.date,\n",
    "    m.id,\n",
    "    -- Get the home and away team names\n",
    "    hometeam,\n",
    "    awayteam,\n",
    "    m.home_goal,\n",
    "    m.away_goal\n",
    "FROM match AS m\n",
    "\n",
    "-- Join the home subquery to the match table\n",
    "LEFT JOIN (\n",
    "  SELECT \n",
    "    match.id, \n",
    "    team.team_long_name AS hometeam\n",
    "  FROM match\n",
    "  LEFT JOIN team\n",
    "  ON match.hometeam_id = team.team_api_id) AS home\n",
    "ON home.id = m.id\n",
    "\n",
    "-- Join the away subquery to the match table\n",
    "LEFT JOIN (\n",
    "  SELECT \n",
    "    match.id, \n",
    "    team.team_long_name AS awayteam\n",
    "  FROM match\n",
    "  LEFT JOIN team\n",
    "  -- Get the away team ID in the subquery\n",
    "  ON match.awayteam_id = team.team_api_id) AS away\n",
    "ON away.id = m.id;"
   ]
  },
  {
   "attachments": {},
   "cell_type": "markdown",
   "metadata": {},
   "source": [
    "Get team names with correlated subqueries"
   ]
  },
  {
   "cell_type": "code",
   "execution_count": null,
   "metadata": {
    "vscode": {
     "languageId": "sql"
    }
   },
   "outputs": [],
   "source": [
    "SELECT\n",
    "    m.date,\n",
    "    m.hometeam_id,\n",
    "   (SELECT team_long_name\n",
    "    FROM team AS t\n",
    "    -- Connect the team to the match table\n",
    "    WHERE t.team_api_id = m.hometeam_id) AS hometeam\n",
    "FROM match AS m;"
   ]
  },
  {
   "cell_type": "code",
   "execution_count": null,
   "metadata": {
    "vscode": {
     "languageId": "sql"
    }
   },
   "outputs": [],
   "source": [
    "SELECT\n",
    "    m.date,\n",
    "    (SELECT team_long_name\n",
    "     FROM team AS t\n",
    "     WHERE t.team_api_id = m.hometeam_id) AS hometeam,\n",
    "    -- Connect the team to the match table\n",
    "    (SELECT team_long_name\n",
    "     FROM team AS t\n",
    "     WHERE t.team_api_id = m.awayteam_id) AS awayteam,\n",
    "    -- Select home and away goals\n",
    "     m.home_goal,\n",
    "     m.away_goal\n",
    "FROM match AS m;"
   ]
  },
  {
   "attachments": {},
   "cell_type": "markdown",
   "metadata": {},
   "source": [
    "Get team names with CTEs"
   ]
  },
  {
   "cell_type": "code",
   "execution_count": null,
   "metadata": {
    "vscode": {
     "languageId": "sql"
    }
   },
   "outputs": [],
   "source": [
    "-- Declare the home CTE\n",
    "WITH home AS (\n",
    "  SELECT \n",
    "    m.hometeam_id,\n",
    "    t.team_api_id,\n",
    "    m.id, \n",
    "    t.team_long_name AS hometeam\n",
    "  FROM match AS m\n",
    "  LEFT JOIN team AS t \n",
    "  ON m.hometeam_id = t.team_api_id)\n",
    "-- Select everything from home\n",
    "SELECT *\n",
    "FROM home;"
   ]
  },
  {
   "cell_type": "code",
   "execution_count": null,
   "metadata": {
    "vscode": {
     "languageId": "sql"
    }
   },
   "outputs": [],
   "source": [
    "SELECT \n",
    "\t-- Select match id and team long name\n",
    "    m.id, \n",
    "    t.team_long_name AS hometeam\n",
    "FROM match AS m\n",
    "-- Join team to match using team_api_id and hometeam_id\n",
    "LEFT JOIN team AS t \n",
    "ON m.hometeam_id = t.team_api_id;"
   ]
  },
  {
   "cell_type": "code",
   "execution_count": null,
   "metadata": {
    "vscode": {
     "languageId": "sql"
    }
   },
   "outputs": [],
   "source": [
    "WITH home AS (\n",
    "  SELECT \n",
    "    m.id, \n",
    "    m.date,\n",
    "    t.team_long_name AS hometeam, \n",
    "    m.home_goal\n",
    "  FROM match AS m\n",
    "  LEFT JOIN team AS t \n",
    "  ON m.hometeam_id = t.team_api_id),\n",
    "-- Declare and set up the away CTE\n",
    "away AS (\n",
    "  SELECT \n",
    "    m.id, \n",
    "    m.date, \n",
    "    t.team_long_name AS awayteam, \n",
    "    m.away_goal\n",
    "  FROM match AS m\n",
    "  LEFT JOIN team AS t \n",
    "  ON m.awayteam_id = t.team_api_id)\n",
    "-- Select date, home_goal, and away_goal\n",
    "SELECT \n",
    "  home.date,\n",
    "  home.hometeam,\n",
    "  away.awayteam,\n",
    "  home.home_goal,\n",
    "  away.away_goal\n",
    "-- Join away and home on the id column\n",
    "FROM home\n",
    "INNER JOIN away\n",
    "ON home.id = away.id;"
   ]
  }
 ],
 "metadata": {
  "language_info": {
   "name": "python"
  },
  "orig_nbformat": 4
 },
 "nbformat": 4,
 "nbformat_minor": 2
}
