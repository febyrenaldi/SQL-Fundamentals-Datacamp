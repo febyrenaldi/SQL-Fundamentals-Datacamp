{
 "cells": [
  {
   "attachments": {},
   "cell_type": "markdown",
   "metadata": {},
   "source": [
    "Basic CASE statements"
   ]
  },
  {
   "cell_type": "code",
   "execution_count": null,
   "metadata": {
    "vscode": {
     "languageId": "sql"
    }
   },
   "outputs": [],
   "source": [
    "SELECT\n",
    "\t-- Select the team long name and team API id\n",
    "\tteam_long_name,\n",
    "\tteam_api_id\n",
    "FROM teams_germany\n",
    "-- Only include FC Schalke 04 and FC Bayern Munich\n",
    "WHERE team_long_name IN ('FC Schalke 04', 'FC Bayern Munich');"
   ]
  },
  {
   "cell_type": "code",
   "execution_count": null,
   "metadata": {
    "vscode": {
     "languageId": "sql"
    }
   },
   "outputs": [],
   "source": [
    "-- Identify the home team as Bayern Munich, Schalke 04, or neither\n",
    "SELECT \n",
    "    CASE WHEN hometeam_id = 10189 THEN 'FC Schalke 04'\n",
    "         WHEN hometeam_id = 9823 THEN 'FC Bayern Munich'\n",
    "         ELSE 'Other' END AS home_team,\n",
    "\tCOUNT(id) AS total_matches\n",
    "FROM matches_germany\n",
    "-- Group by the CASE statement alias\n",
    "GROUP BY home_team;"
   ]
  },
  {
   "attachments": {},
   "cell_type": "markdown",
   "metadata": {},
   "source": [
    "CASE statements comparing column values"
   ]
  },
  {
   "cell_type": "code",
   "execution_count": null,
   "metadata": {
    "vscode": {
     "languageId": "sql"
    }
   },
   "outputs": [],
   "source": [
    "SELECT \n",
    "\t-- Select the date of the match\n",
    "\tdate,\n",
    "\t-- Identify home wins, losses, or ties\n",
    "\tCASE WHEN home_goal > away_goal THEN 'Home win!'\n",
    "         WHEN home_goal < away_goal THEN 'Home loss :(' \n",
    "         ELSE 'Tie' END AS outcome\n",
    "FROM matches_spain;"
   ]
  },
  {
   "cell_type": "code",
   "execution_count": null,
   "metadata": {
    "vscode": {
     "languageId": "sql"
    }
   },
   "outputs": [],
   "source": [
    "SELECT \n",
    "\tm.date,\n",
    "\t--Select the team long name column and call it 'opponent'\n",
    "\tt.team_long_name AS opponent, \n",
    "\t-- Complete the CASE statement with an alias\n",
    "\tCASE WHEN m.home_goal > m.away_goal THEN 'Home win!'\n",
    "         WHEN m.home_goal < m.away_goal THEN 'Home loss :('\n",
    "         ELSE 'Tie' END AS outcome\n",
    "FROM matches_spain AS m\n",
    "-- Left join teams_spain onto matches_spain\n",
    "LEFT JOIN teams_spain AS t\n",
    "ON m.awayteam_id = t.team_api_id;"
   ]
  },
  {
   "cell_type": "code",
   "execution_count": null,
   "metadata": {
    "vscode": {
     "languageId": "sql"
    }
   },
   "outputs": [],
   "source": [
    "SELECT \n",
    "\tm.date,\n",
    "\tt.team_long_name AS opponent,\n",
    "\t-- Complete the CASE statement with an alias\n",
    "\tCASE WHEN m.home_goal > m.away_goal THEN 'Barcelona win!'\n",
    "         WHEN m.home_goal < m.away_goal THEN 'Barcelona loss :(' \n",
    "         ELSE 'Tie' END AS outcome \n",
    "FROM matches_spain AS m\n",
    "LEFT JOIN teams_spain AS t \n",
    "ON m.awayteam_id = t.team_api_id\n",
    "-- Filter for Barcelona as the home team\n",
    "WHERE m.hometeam_id = 8634; "
   ]
  },
  {
   "attachments": {},
   "cell_type": "markdown",
   "metadata": {},
   "source": [
    "CASE statements comparing two column values part 2"
   ]
  },
  {
   "cell_type": "code",
   "execution_count": null,
   "metadata": {
    "vscode": {
     "languageId": "sql"
    }
   },
   "outputs": [],
   "source": [
    "-- Select matches where Barcelona was the away team\n",
    "SELECT\n",
    "\tm.date,\n",
    "\tt.team_long_name AS opponent,\n",
    "\tCASE WHEN m.home_goal < m.away_goal THEN 'Barcelona win!'\n",
    "         WHEN m.home_goal > m.away_goal THEN 'Barcelona loss :('\n",
    "         ELSE 'Tie' END AS outcome\n",
    "FROM matches_spain AS m\n",
    "-- Join teams_spain to matches_spain\n",
    "LEFT JOIN teams_spain AS t\n",
    "ON m.hometeam_id = t.team_api_id\n",
    "WHERE m.awayteam_id = 8634;"
   ]
  },
  {
   "attachments": {},
   "cell_type": "markdown",
   "metadata": {},
   "source": [
    "In CASE of rivalry"
   ]
  },
  {
   "cell_type": "code",
   "execution_count": null,
   "metadata": {
    "vscode": {
     "languageId": "sql"
    }
   },
   "outputs": [],
   "source": [
    "SELECT \n",
    "\tdate,\n",
    "\t-- Identify the home team as Barcelona or Real Madrid\n",
    "\tCASE WHEN hometeam_id = 8634 THEN 'FC Barcelona' \n",
    "         ELSE 'Real Madrid CF' END AS home,\n",
    "    -- Identify the away team as Barcelona or Real Madrid\n",
    "\tCASE WHEN awayteam_id = 8634 THEN 'FC Barcelona' \n",
    "         ELSE 'Real Madrid CF' END AS away\n",
    "FROM matches_spain\n",
    "WHERE (awayteam_id = 8634 OR hometeam_id = 8634)\n",
    "      AND (awayteam_id = 8633 OR hometeam_id = 8633);"
   ]
  },
  {
   "cell_type": "code",
   "execution_count": null,
   "metadata": {
    "vscode": {
     "languageId": "sql"
    }
   },
   "outputs": [],
   "source": [
    "SELECT \n",
    "\tdate,\n",
    "\tCASE WHEN hometeam_id = 8634 THEN 'FC Barcelona' \n",
    "         ELSE 'Real Madrid CF' END as home,\n",
    "\tCASE WHEN awayteam_id = 8634 THEN 'FC Barcelona' \n",
    "         ELSE 'Real Madrid CF' END as away,\n",
    "\t-- Identify all possible match outcomes\n",
    "      home_goal,\n",
    "      away_goal,\n",
    "\tCASE WHEN home_goal > away_goal AND hometeam_id = 8634 THEN 'Barcelona win!'\n",
    "        WHEN home_goal > away_goal AND hometeam_id = 8633 THEN 'Real Madrid win!'\n",
    "        WHEN home_goal < away_goal AND awayteam_id = 8634 THEN 'Barcelona win!'\n",
    "        WHEN home_goal < away_goal AND awayteam_id = 8633 THEN 'Real Madrid win!'\n",
    "        ELSE 'Tie!' END AS outcome\n",
    "FROM matches_spain\n",
    "WHERE (awayteam_id = 8634 OR hometeam_id = 8634)\n",
    "      AND (awayteam_id = 8633 OR hometeam_id = 8633);"
   ]
  },
  {
   "attachments": {},
   "cell_type": "markdown",
   "metadata": {},
   "source": [
    "Filtering your CASE statement"
   ]
  },
  {
   "cell_type": "code",
   "execution_count": null,
   "metadata": {
    "vscode": {
     "languageId": "sql"
    }
   },
   "outputs": [],
   "source": [
    "-- Select team_long_name and team_api_id from team\n",
    "SELECT\n",
    "\tteam_long_name,\n",
    "\tteam_api_id\n",
    "FROM teams_italy\n",
    "-- Filter by team long name\n",
    "WHERE team_long_name = 'Bologna';"
   ]
  },
  {
   "cell_type": "code",
   "execution_count": null,
   "metadata": {
    "vscode": {
     "languageId": "sql"
    }
   },
   "outputs": [],
   "source": [
    "-- Select the season and date columns\n",
    "SELECT \n",
    "\tseason,\n",
    "\tdate,\n",
    "    -- Identify when Bologna won a match\n",
    "\tCASE WHEN hometeam_id = 9857 \n",
    "          AND home_goal > away_goal \n",
    "         THEN 'Bologna Win'\n",
    "         WHEN awayteam_id = 9857 \n",
    "          AND away_goal > home_goal \n",
    "         THEN 'Bologna Win' \n",
    "          END AS outcome\n",
    "FROM matches_italy;"
   ]
  },
  {
   "cell_type": "code",
   "execution_count": null,
   "metadata": {
    "vscode": {
     "languageId": "sql"
    }
   },
   "outputs": [],
   "source": [
    "-- Select the season, date, home_goal, and away_goal columns\n",
    "SELECT \n",
    "\tseason,\n",
    "\tdate,\n",
    "\thome_goal,\n",
    "\taway_goal\n",
    "FROM matches_italy\n",
    "WHERE\n",
    "-- Exclude games not won by Bologna\n",
    "\tCASE WHEN hometeam_id = 9857 AND home_goal > away_goal THEN 'Bologna Win'\n",
    "         WHEN awayteam_id = 9857 AND away_goal > home_goal THEN 'Bologna Win' \n",
    "         END IS NOT NULL;"
   ]
  },
  {
   "attachments": {},
   "cell_type": "markdown",
   "metadata": {},
   "source": [
    "COUNT using CASE WHEN"
   ]
  },
  {
   "cell_type": "code",
   "execution_count": null,
   "metadata": {
    "vscode": {
     "languageId": "sql"
    }
   },
   "outputs": [],
   "source": [
    "SELECT \n",
    "\tc.name AS country,\n",
    "    -- Count games from the 2012/2013 season\n",
    "\tCOUNT(CASE WHEN m.season = '2012/2013' \n",
    "          \t   THEN m.id ELSE NULL END) AS matches_2012_2013\n",
    "FROM country AS c\n",
    "LEFT JOIN match AS m\n",
    "ON c.id = m.country_id\n",
    "-- Group by country name alias\n",
    "GROUP BY country;"
   ]
  },
  {
   "cell_type": "code",
   "execution_count": null,
   "metadata": {
    "vscode": {
     "languageId": "sql"
    }
   },
   "outputs": [],
   "source": [
    "SELECT \n",
    "\tc.name AS country,\n",
    "    -- Count matches in each of the 3 seasons\n",
    "\tCOUNT(CASE WHEN m.season = '2012/2013' THEN m.id END) AS matches_2012_2013,\n",
    "\tCOUNT(CASE WHEN m.season = '2013/2014' THEN m.id END) AS matches_2013_2014,\n",
    "\tCOUNT(CASE WHEN m.season = '2014/2015' THEN m.id END) AS matches_2014_2015\n",
    "FROM country AS c\n",
    "LEFT JOIN match AS m\n",
    "ON c.id = m.country_id\n",
    "-- Group by country name alias\n",
    "GROUP BY country;"
   ]
  },
  {
   "attachments": {},
   "cell_type": "markdown",
   "metadata": {},
   "source": [
    "COUNT and CASE WHEN with multiple conditions"
   ]
  },
  {
   "cell_type": "code",
   "execution_count": null,
   "metadata": {
    "vscode": {
     "languageId": "sql"
    }
   },
   "outputs": [],
   "source": [
    "SELECT \n",
    "\tc.name AS country,\n",
    "    -- Sum the total records in each season where the home team won\n",
    "\tSUM(CASE WHEN m.season = '2012/2013' AND m.home_goal > m.away_goal \n",
    "        THEN 1 ELSE 0 END) AS matches_2012_2013,\n",
    "\tSUM(CASE WHEN m.season = '2013/2014' AND m.home_goal > m.away_goal \n",
    "        THEN 1 ELSE 0 END) AS matches_2013_2014,\n",
    "\tSUM(CASE WHEN m.season = '2014/2015' AND m.home_goal > m.away_goal \n",
    "        THEN 1 ELSE 0 END) AS matches_2014_2015\n",
    "FROM country AS c\n",
    "LEFT JOIN match AS m\n",
    "ON c.id = m.country_id\n",
    "-- Group by country name alias\n",
    "GROUP BY country;"
   ]
  },
  {
   "attachments": {},
   "cell_type": "markdown",
   "metadata": {},
   "source": [
    "Calculating percent with CASE and AVG"
   ]
  },
  {
   "cell_type": "code",
   "execution_count": null,
   "metadata": {
    "vscode": {
     "languageId": "sql"
    }
   },
   "outputs": [],
   "source": [
    "SELECT \n",
    "\tc.name AS country,\n",
    "    -- Sum the home wins, away wins, and ties in each country\n",
    "    COUNT(CASE WHEN m.home_goal > m.away_goal THEN m.id          \n",
    "        END) AS home_wins,\n",
    "    COUNT(CASE WHEN m.home_goal < m.away_goal THEN m.id \n",
    "        END) AS away_wins,\n",
    "    COUNT(CASE WHEN m.home_goal = m.away_goal THEN m.id \n",
    "        END) AS ties\n",
    "FROM country AS c\n",
    "LEFT JOIN matches AS m\n",
    "ON c.id = m.country_id\n",
    "GROUP BY country;"
   ]
  },
  {
   "cell_type": "code",
   "execution_count": null,
   "metadata": {
    "vscode": {
     "languageId": "sql"
    }
   },
   "outputs": [],
   "source": [
    "SELECT \n",
    "\tc.name AS country,\n",
    "    -- Calculate the percentage of tied games in each season\n",
    "\tAVG(CASE WHEN m.season= '2013/2014' AND m.home_goal = m.away_goal THEN 1\n",
    "\t\t\t WHEN m.season= '2013/2014' AND m.home_goal != m.away_goal THEN 0\n",
    "\t\t\t END) AS ties_2013_2014,\n",
    "\tAVG(CASE WHEN m.season= '2014/2015' AND m.home_goal = m.away_goal THEN 1\n",
    "\t\t\t WHEN m.season= '2014/2015' AND m.home_goal != m.away_goal THEN 0\n",
    "\t\t\t END) AS ties_2014_2015\n",
    "FROM country AS c\n",
    "LEFT JOIN matches AS m\n",
    "ON c.id = m.country_id\n",
    "GROUP BY country;"
   ]
  },
  {
   "cell_type": "code",
   "execution_count": null,
   "metadata": {
    "vscode": {
     "languageId": "sql"
    }
   },
   "outputs": [],
   "source": [
    "SELECT \n",
    "\tc.name AS country,\n",
    "    -- Round the percentage of tied games to 2 decimal points\n",
    "\tROUND(AVG(CASE WHEN m.season='2013/2014' AND m.home_goal = m.away_goal THEN 1\n",
    "\t\t\t WHEN m.season='2013/2014' AND m.home_goal != m.away_goal THEN 0\n",
    "\t\t\t END),2) AS pct_ties_2013_2014,\n",
    "\tROUND(AVG(CASE WHEN m.season='2014/2015' AND m.home_goal = m.away_goal THEN 1\n",
    "\t\t\t WHEN m.season='2014/2015' AND m.home_goal != m.away_goal THEN 0\n",
    "\t\t\t END),2) AS pct_ties_2014_2015\n",
    "FROM country AS c\n",
    "LEFT JOIN matches AS m\n",
    "ON c.id = m.country_id\n",
    "GROUP BY country;"
   ]
  }
 ],
 "metadata": {
  "language_info": {
   "name": "python"
  },
  "orig_nbformat": 4
 },
 "nbformat": 4,
 "nbformat_minor": 2
}
