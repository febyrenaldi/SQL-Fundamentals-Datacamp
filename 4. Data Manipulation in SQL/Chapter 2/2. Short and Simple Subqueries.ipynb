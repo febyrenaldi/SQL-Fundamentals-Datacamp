{
 "cells": [
  {
   "attachments": {},
   "cell_type": "markdown",
   "metadata": {},
   "source": [
    "Filtering using scalar subqueries"
   ]
  },
  {
   "cell_type": "code",
   "execution_count": null,
   "metadata": {
    "vscode": {
     "languageId": "sql"
    }
   },
   "outputs": [],
   "source": [
    "SELECT \n",
    "-- Select the average of home + away goals, multiplied by 3\n",
    "\t3 * AVG(home_goal + away_goal)\n",
    "FROM matches_2013_2014;"
   ]
  },
  {
   "cell_type": "code",
   "execution_count": null,
   "metadata": {
    "vscode": {
     "languageId": "sql"
    }
   },
   "outputs": [],
   "source": [
    "SELECT \n",
    "\t-- Select the date, home goals, and away goals scored\n",
    "\tdate,\n",
    "\thome_goal,\n",
    "\taway_goal\n",
    "FROM matches_2013_2014\n",
    "-- Filter for matches where total goals exceeds 3x the average\n",
    "WHERE (home_goal + away_goal) > \n",
    "       (SELECT 3 * AVG(home_goal + away_goal)\n",
    "        FROM matches_2013_2014); "
   ]
  },
  {
   "attachments": {},
   "cell_type": "markdown",
   "metadata": {},
   "source": [
    "Filtering using a subquery with a list"
   ]
  },
  {
   "cell_type": "code",
   "execution_count": null,
   "metadata": {
    "vscode": {
     "languageId": "sql"
    }
   },
   "outputs": [],
   "source": [
    "SELECT \n",
    "\t-- Select the team long and short names\n",
    "\tteam_long_name,\n",
    "\tteam_short_name\n",
    "FROM team\n",
    "-- Exclude all values from the subquery\n",
    "WHERE team_api_id NOT IN\n",
    "     (SELECT DISTINCT hometeam_id FROM match);"
   ]
  },
  {
   "attachments": {},
   "cell_type": "markdown",
   "metadata": {},
   "source": [
    "Filtering with more complex subquery conditions"
   ]
  },
  {
   "cell_type": "code",
   "execution_count": null,
   "metadata": {
    "vscode": {
     "languageId": "sql"
    }
   },
   "outputs": [],
   "source": [
    "SELECT\n",
    "\t-- Select the team long and short names\n",
    "\tteam_long_name,\n",
    "\tteam_short_name\n",
    "FROM team\n",
    "-- Filter for teams with 8 or more home goals\n",
    "WHERE team_api_id IN\n",
    "\t  (SELECT hometeam_id \n",
    "       FROM match\n",
    "       WHERE home_goal >= 8);"
   ]
  },
  {
   "attachments": {},
   "cell_type": "markdown",
   "metadata": {},
   "source": [
    "Joining Subqueries in FROM"
   ]
  },
  {
   "cell_type": "code",
   "execution_count": null,
   "metadata": {
    "vscode": {
     "languageId": "sql"
    }
   },
   "outputs": [],
   "source": [
    "SELECT \n",
    "\t-- Select the country ID and match ID\n",
    "\tcountry_id, \n",
    "    id \n",
    "FROM match\n",
    "-- Filter for matches with 10 or more goals in total\n",
    "WHERE (home_goal + away_goal) >= 10;"
   ]
  },
  {
   "cell_type": "code",
   "execution_count": null,
   "metadata": {
    "vscode": {
     "languageId": "sql"
    }
   },
   "outputs": [],
   "source": [
    "SELECT\n",
    "\t-- Select country name and the count match IDs\n",
    "    c.name AS country_name,\n",
    "    COUNT(sub.id) AS matches\n",
    "FROM country AS c\n",
    "-- Inner join the subquery onto country\n",
    "-- Select the country id and match id columns\n",
    "INNER JOIN (SELECT country_id, id \n",
    "            FROM match\n",
    "            -- Filter the subquery by matches with 10+ goals\n",
    "            WHERE (home_goal + away_goal) >= 10) AS sub\n",
    "ON c.id = sub.country_id\n",
    "GROUP BY country_name;"
   ]
  },
  {
   "attachments": {},
   "cell_type": "markdown",
   "metadata": {},
   "source": [
    "Building on Subqueries in FROM"
   ]
  },
  {
   "cell_type": "code",
   "execution_count": null,
   "metadata": {
    "vscode": {
     "languageId": "sql"
    }
   },
   "outputs": [],
   "source": [
    "SELECT\n",
    "\t-- Select country, date, home, and away goals from the subquery\n",
    "    country,\n",
    "    date,\n",
    "    home_goal,\n",
    "    away_goal\n",
    "FROM\n",
    "\t-- Select country name, date, home_goal, away_goal, and total goals in the subquery\n",
    "\t(SELECT c.name AS country, \n",
    "     \t    m.date, \n",
    "     \t\tm.home_goal, \n",
    "     \t\tm.away_goal,\n",
    "           (m.home_goal + m.away_goal) AS total_goals\n",
    "    FROM match AS m\n",
    "    LEFT JOIN country AS c\n",
    "    ON m.country_id = c.id) AS subquery\n",
    "-- Filter by total goals scored in the main query\n",
    "WHERE total_goals >= 10;"
   ]
  },
  {
   "attachments": {},
   "cell_type": "markdown",
   "metadata": {},
   "source": [
    "Add a subquery to the SELECT clause"
   ]
  },
  {
   "cell_type": "code",
   "execution_count": null,
   "metadata": {
    "vscode": {
     "languageId": "sql"
    }
   },
   "outputs": [],
   "source": [
    "SELECT \n",
    "\tl.name AS league,\n",
    "    -- Select and round the league's total goals\n",
    "    ROUND(AVG(m.home_goal + m.away_goal),2) AS avg_goals,\n",
    "    -- Select and round the average total goals\n",
    "    (SELECT ROUND(AVG(home_goal + away_goal),2) \n",
    "     FROM match\n",
    "     WHERE season = '2013/2014') AS overall_avg\n",
    "FROM league AS l\n",
    "LEFT JOIN match AS m\n",
    "ON l.country_id = m.country_id\n",
    "-- Filter for the 2013/2014 season\n",
    "WHERE m.season = '2013/2014'\n",
    "GROUP BY l.name;"
   ]
  },
  {
   "attachments": {},
   "cell_type": "markdown",
   "metadata": {},
   "source": [
    "Subqueries in Select for Calculations"
   ]
  },
  {
   "cell_type": "code",
   "execution_count": null,
   "metadata": {
    "vscode": {
     "languageId": "sql"
    }
   },
   "outputs": [],
   "source": [
    "SELECT \n",
    "\t-- Select the league name and average goals scored\n",
    "\tl.name AS league,\n",
    "\tROUND(AVG(m.home_goal + m.away_goal),2) AS avg_goals,\n",
    "    -- Subtract the overall average from the league average\n",
    "\tROUND(AVG(m.home_goal + m.away_goal) - \n",
    "          (SELECT AVG(home_goal + away_goal)\n",
    "           FROM match \n",
    "           WHERE season = '2013/2014'),2) AS diff\n",
    "FROM league AS l\n",
    "LEFT JOIN match AS m\n",
    "ON l.country_id = m.country_id\n",
    "-- Only include 2013/2014 results\n",
    "WHERE m.season = '2013/2014'\n",
    "GROUP BY l.name;"
   ]
  },
  {
   "attachments": {},
   "cell_type": "markdown",
   "metadata": {},
   "source": [
    "ALL the subqueries EVERYWHERE"
   ]
  },
  {
   "cell_type": "code",
   "execution_count": null,
   "metadata": {
    "vscode": {
     "languageId": "sql"
    }
   },
   "outputs": [],
   "source": [
    "SELECT \n",
    "\t-- Select the stage and average goals for each stage\n",
    "\tm.stage,\n",
    "\tROUND(AVG(m.home_goal + m.away_goal),2) AS avg_goals,\n",
    "    -- Select the average overall goals for the 2012/2013 season\n",
    "\tROUND((SELECT AVG(home_goal + away_goal) \n",
    "           FROM match \n",
    "           WHERE season = '2012/2013'),2) AS overall\n",
    "FROM match AS m\n",
    "-- Filter for the 2012/2013 season\n",
    "WHERE m.season = '2012/2013'\n",
    "-- Group by stage\n",
    "GROUP BY m.stage;"
   ]
  },
  {
   "attachments": {},
   "cell_type": "markdown",
   "metadata": {},
   "source": [
    "Add a subquery in FROM"
   ]
  },
  {
   "cell_type": "code",
   "execution_count": null,
   "metadata": {
    "vscode": {
     "languageId": "sql"
    }
   },
   "outputs": [],
   "source": [
    "SELECT \n",
    "\t-- Select the stage and average goals from the subquery\n",
    "\ts.stage,\n",
    "    ROUND(s.avg_goals,2) AS avg_goals\n",
    "FROM \n",
    "\t-- Select the stage and average goals in 2012/2013\n",
    "\t(SELECT\n",
    "         stage,\n",
    "         AVG(home_goal + away_goal) AS avg_goals\n",
    "     FROM match\n",
    "     WHERE season = '2012/2013'\n",
    "     GROUP BY stage) AS s\n",
    "WHERE \n",
    "\t-- Filter the main query using the subquery\n",
    "\ts.avg_goals > (SELECT AVG(home_goal + away_goal) \n",
    "                   FROM match WHERE season = '2012/2013');"
   ]
  },
  {
   "attachments": {},
   "cell_type": "markdown",
   "metadata": {},
   "source": [
    "Add a subquery in SELECT"
   ]
  },
  {
   "cell_type": "code",
   "execution_count": null,
   "metadata": {
    "vscode": {
     "languageId": "sql"
    }
   },
   "outputs": [],
   "source": [
    "SELECT \n",
    "\t-- Select the stage and average goals from s\n",
    "\ts.stage,\n",
    "\tROUND(s.avg_goals,2) AS avg_goal,\n",
    "    -- Select the overall average for 2012/2013\n",
    "\t(SELECT AVG(home_goal + away_goal) FROM match WHERE season = '2012/2013') AS overall_avg\n",
    "FROM \n",
    "\t-- Select the stage and average goals in 2012/2013 from match\n",
    "\t(SELECT\n",
    "         stage,\n",
    "         AVG(home_goal + away_goal) AS avg_goals\n",
    "     FROM match\n",
    "     WHERE season = '2012/2013'\n",
    "     GROUP BY stage) AS s\n",
    "WHERE \n",
    "\t-- Filter the main query using the subquery\n",
    "\ts.avg_goals > (SELECT AVG(home_goal + away_goal) \n",
    "                   FROM match WHERE season = '2012/2013');"
   ]
  }
 ],
 "metadata": {
  "language_info": {
   "name": "python"
  },
  "orig_nbformat": 4
 },
 "nbformat": 4,
 "nbformat_minor": 2
}
