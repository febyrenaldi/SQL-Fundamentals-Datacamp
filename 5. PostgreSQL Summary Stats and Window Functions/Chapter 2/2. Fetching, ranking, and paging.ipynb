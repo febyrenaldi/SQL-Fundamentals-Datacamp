{
 "cells": [
  {
   "attachments": {},
   "cell_type": "markdown",
   "metadata": {},
   "source": [
    "Future gold medalists"
   ]
  },
  {
   "cell_type": "code",
   "execution_count": null,
   "metadata": {
    "vscode": {
     "languageId": "sql"
    }
   },
   "outputs": [],
   "source": [
    "WITH Discus_Medalists AS (\n",
    "  SELECT DISTINCT\n",
    "    Year,\n",
    "    Athlete\n",
    "  FROM Summer_Medals\n",
    "  WHERE Medal = 'Gold'\n",
    "    AND Event = 'Discus Throw'\n",
    "    AND Gender = 'Women'\n",
    "    AND Year >= 2000)\n",
    "\n",
    "SELECT\n",
    "  -- For each year, fetch the current and future medalists\n",
    "  Year,\n",
    "  Athlete,\n",
    "  LEAD(Athlete, 3) OVER (ORDER BY Year ASC) AS Future_Champion\n",
    "FROM Discus_Medalists\n",
    "ORDER BY Year ASC;"
   ]
  },
  {
   "attachments": {},
   "cell_type": "markdown",
   "metadata": {},
   "source": [
    "First athlete by name"
   ]
  },
  {
   "cell_type": "code",
   "execution_count": null,
   "metadata": {
    "vscode": {
     "languageId": "sql"
    }
   },
   "outputs": [],
   "source": [
    "WITH All_Male_Medalists AS (\n",
    "  SELECT DISTINCT\n",
    "    Athlete\n",
    "  FROM Summer_Medals\n",
    "  WHERE Medal = 'Gold'\n",
    "    AND Gender = 'Men')\n",
    "\n",
    "SELECT\n",
    "  -- Fetch all athletes and the first athlete alphabetically\n",
    "  Athlete,\n",
    "  FIRST_VALUE(Athlete) OVER (\n",
    "    ORDER BY Athlete ASC\n",
    "  ) AS First_Athlete\n",
    "FROM All_Male_Medalists;"
   ]
  },
  {
   "attachments": {},
   "cell_type": "markdown",
   "metadata": {},
   "source": [
    "Last country by name"
   ]
  },
  {
   "cell_type": "code",
   "execution_count": null,
   "metadata": {
    "vscode": {
     "languageId": "sql"
    }
   },
   "outputs": [],
   "source": [
    "WITH Hosts AS (\n",
    "  SELECT DISTINCT Year, City\n",
    "    FROM Summer_Medals)\n",
    "\n",
    "SELECT\n",
    "  Year,\n",
    "  City,\n",
    "  -- Get the last city in which the Olympic games were held\n",
    "  LAST_VALUE(city) OVER (\n",
    "   ORDER BY Year ASC\n",
    "   RANGE BETWEEN\n",
    "     UNBOUNDED PRECEDING AND\n",
    "     UNBOUNDED FOLLOWING\n",
    "  ) AS Last_City\n",
    "FROM Hosts\n",
    "ORDER BY Year ASC;"
   ]
  },
  {
   "attachments": {},
   "cell_type": "markdown",
   "metadata": {},
   "source": [
    "Ranking athletes by medals earned"
   ]
  },
  {
   "cell_type": "code",
   "execution_count": null,
   "metadata": {
    "vscode": {
     "languageId": "sql"
    }
   },
   "outputs": [],
   "source": [
    "WITH Athlete_Medals AS (\n",
    "  SELECT\n",
    "    Athlete,\n",
    "    COUNT(*) AS Medals\n",
    "  FROM Summer_Medals\n",
    "  GROUP BY Athlete)\n",
    "\n",
    "SELECT\n",
    "  Athlete,\n",
    "  Medals,\n",
    "  -- Rank athletes by the medals they've won\n",
    "  RANK() OVER (ORDER BY Medals DESC) AS Rank_N\n",
    "FROM Athlete_Medals\n",
    "ORDER BY Medals DESC;"
   ]
  },
  {
   "attachments": {},
   "cell_type": "markdown",
   "metadata": {},
   "source": [
    "Ranking athletes from multiple countries"
   ]
  },
  {
   "cell_type": "code",
   "execution_count": null,
   "metadata": {
    "vscode": {
     "languageId": "sql"
    }
   },
   "outputs": [],
   "source": [
    "WITH Athlete_Medals AS (\n",
    "  SELECT\n",
    "    Country, Athlete, COUNT(*) AS Medals\n",
    "  FROM Summer_Medals\n",
    "  WHERE\n",
    "    Country IN ('JPN', 'KOR')\n",
    "    AND Year >= 2000\n",
    "  GROUP BY Country, Athlete\n",
    "  HAVING COUNT(*) > 1)\n",
    "\n",
    "SELECT\n",
    "  Country,\n",
    "  -- Rank athletes in each country by the medals they've won\n",
    "  Athlete,\n",
    "  medals,\n",
    "  DENSE_RANK() OVER (PARTITION BY Country\n",
    "                         ORDER BY Medals DESC) AS Rank_N\n",
    "FROM Athlete_Medals\n",
    "ORDER BY Country ASC, RANK_N ASC;"
   ]
  },
  {
   "attachments": {},
   "cell_type": "markdown",
   "metadata": {},
   "source": [
    "Paging events"
   ]
  },
  {
   "cell_type": "code",
   "execution_count": null,
   "metadata": {
    "vscode": {
     "languageId": "sql"
    }
   },
   "outputs": [],
   "source": [
    "WITH Events AS (\n",
    "  SELECT DISTINCT Event\n",
    "  FROM Summer_Medals)\n",
    "  \n",
    "SELECT\n",
    "  --- Split up the distinct events into 111 unique groups\n",
    "  Event,\n",
    "  --- returns row quartiles containing 6 rows of 111 quartiles\n",
    "  NTILE(111) OVER (ORDER BY Event ASC) AS Page\n",
    "FROM Events\n",
    "ORDER BY Event ASC;"
   ]
  },
  {
   "attachments": {},
   "cell_type": "markdown",
   "metadata": {},
   "source": [
    "Top, middle, and bottom thirds"
   ]
  },
  {
   "cell_type": "code",
   "execution_count": null,
   "metadata": {
    "vscode": {
     "languageId": "sql"
    }
   },
   "outputs": [],
   "source": [
    "WITH Athlete_Medals AS (\n",
    "  SELECT Athlete, COUNT(*) AS Medals\n",
    "  FROM Summer_Medals\n",
    "  GROUP BY Athlete\n",
    "  HAVING COUNT(*) > 1)\n",
    "  \n",
    "SELECT\n",
    "  Athlete,\n",
    "  Medals,\n",
    "  -- Split athletes into thirds by their earned medals\n",
    "  NTILE(3) OVER (ORDER BY Medals DESC) AS Third\n",
    "FROM Athlete_Medals\n",
    "ORDER BY Medals DESC, Athlete ASC;"
   ]
  },
  {
   "cell_type": "code",
   "execution_count": null,
   "metadata": {
    "vscode": {
     "languageId": "sql"
    }
   },
   "outputs": [],
   "source": [
    "WITH Athlete_Medals AS (\n",
    "  SELECT Athlete, COUNT(*) AS Medals\n",
    "  FROM Summer_Medals\n",
    "  GROUP BY Athlete\n",
    "  HAVING COUNT(*) > 1),\n",
    "  \n",
    "  Thirds AS (\n",
    "  SELECT\n",
    "    Athlete,\n",
    "    Medals,\n",
    "    NTILE(3) OVER (ORDER BY Medals DESC) AS Third\n",
    "  FROM Athlete_Medals)\n",
    "  \n",
    "SELECT\n",
    "  -- Get the average medals earned in each third\n",
    "  Third,\n",
    "  AVG(Medals) AS Avg_Medals\n",
    "FROM Thirds\n",
    "GROUP BY Third\n",
    "ORDER BY Third ASC;"
   ]
  }
 ],
 "metadata": {
  "language_info": {
   "name": "python"
  },
  "orig_nbformat": 4
 },
 "nbformat": 4,
 "nbformat_minor": 2
}
