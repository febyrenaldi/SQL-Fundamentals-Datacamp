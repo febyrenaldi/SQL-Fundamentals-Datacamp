{
 "cells": [
  {
   "attachments": {},
   "cell_type": "markdown",
   "metadata": {},
   "source": [
    "A basic pivot"
   ]
  },
  {
   "cell_type": "code",
   "execution_count": null,
   "metadata": {
    "vscode": {
     "languageId": "sql"
    }
   },
   "outputs": [],
   "source": [
    "-- Create the correct extension to enable CROSSTAB\n",
    "CREATE EXTENSION IF NOT EXISTS tablefunc;\n",
    "\n",
    "SELECT * FROM CROSSTAB($$\n",
    "  SELECT\n",
    "    Gender, Year, Country\n",
    "  FROM Summer_Medals\n",
    "  WHERE\n",
    "    Year IN (2008, 2012)\n",
    "    AND Medal = 'Gold'\n",
    "    AND Event = 'Pole Vault'\n",
    "  ORDER By Gender ASC, Year ASC\n",
    "-- Fill in the correct column names for the pivoted table\n",
    "$$) AS ct (Gender VARCHAR,\n",
    "           \"2008\" VARCHAR,\n",
    "           \"2012\" VARCHAR)\n",
    "\n",
    "ORDER BY Gender ASC;"
   ]
  },
  {
   "attachments": {},
   "cell_type": "markdown",
   "metadata": {},
   "source": [
    "Pivoting with ranking"
   ]
  },
  {
   "cell_type": "code",
   "execution_count": null,
   "metadata": {
    "vscode": {
     "languageId": "sql"
    }
   },
   "outputs": [],
   "source": [
    "-- Count the gold medals per country and year\n",
    "SELECT\n",
    "  Country,\n",
    "  Year,\n",
    "  COUNT(*) AS Awards\n",
    "FROM Summer_Medals\n",
    "WHERE\n",
    "  Country IN ('FRA', 'GBR', 'GER')\n",
    "  AND Year IN (2004, 2008, 2012)\n",
    "  AND Medal = 'Gold'\n",
    "GROUP BY Country, Year\n",
    "ORDER BY Country ASC, Year ASC"
   ]
  },
  {
   "cell_type": "code",
   "execution_count": null,
   "metadata": {
    "vscode": {
     "languageId": "sql"
    }
   },
   "outputs": [],
   "source": [
    "WITH Country_Awards AS (\n",
    "  SELECT\n",
    "    Country,\n",
    "    Year,\n",
    "    COUNT(*) AS Awards\n",
    "  FROM Summer_Medals\n",
    "  WHERE\n",
    "    Country IN ('FRA', 'GBR', 'GER')\n",
    "    AND Year IN (2004, 2008, 2012)\n",
    "    AND Medal = 'Gold'\n",
    "  GROUP BY Country, Year)\n",
    "\n",
    "SELECT\n",
    "  Country,\n",
    "  Year,\n",
    "  -- Rank by gold medals earned per year\n",
    "  RANK() OVER\n",
    "    (PARTITION BY Year\n",
    "     ORDER BY Awards DESC) :: INTEGER AS rank\n",
    "FROM Country_Awards\n",
    "ORDER BY Country ASC, Year ASC;"
   ]
  },
  {
   "cell_type": "code",
   "execution_count": null,
   "metadata": {
    "vscode": {
     "languageId": "sql"
    }
   },
   "outputs": [],
   "source": [
    "CREATE EXTENSION IF NOT EXISTS tablefunc;\n",
    "\n",
    "SELECT * FROM CROSSTAB($$\n",
    "  WITH Country_Awards AS (\n",
    "    SELECT\n",
    "      Country,\n",
    "      Year,\n",
    "      COUNT(*) AS Awards\n",
    "    FROM Summer_Medals\n",
    "    WHERE\n",
    "      Country IN ('FRA', 'GBR', 'GER')\n",
    "      AND Year IN (2004, 2008, 2012)\n",
    "      AND Medal = 'Gold'\n",
    "    GROUP BY Country, Year)\n",
    "\n",
    "  SELECT\n",
    "    Country,\n",
    "    Year,\n",
    "    RANK() OVER\n",
    "      (PARTITION BY Year\n",
    "       ORDER BY Awards DESC) :: INTEGER AS rank\n",
    "  FROM Country_Awards\n",
    "  ORDER BY Country ASC, Year ASC;\n",
    "-- Fill in the correct column names for the pivoted table\n",
    "$$) AS ct (Country VARCHAR,\n",
    "           \"2004\" INTEGER,\n",
    "           \"2008\" INTEGER,\n",
    "           \"2012\" INTEGER)\n",
    "\n",
    "Order by Country ASC;"
   ]
  },
  {
   "attachments": {},
   "cell_type": "markdown",
   "metadata": {},
   "source": [
    "Country-level subtotals"
   ]
  },
  {
   "cell_type": "code",
   "execution_count": null,
   "metadata": {
    "vscode": {
     "languageId": "sql"
    }
   },
   "outputs": [],
   "source": [
    "-- Count the gold medals per country and gender\n",
    "SELECT\n",
    "  Country,\n",
    "  Gender,\n",
    "  COUNT(*) AS Gold_Awards\n",
    "FROM Summer_Medals\n",
    "WHERE\n",
    "  Year = 2004\n",
    "  AND Medal = 'Gold'\n",
    "  AND Country IN ('DEN', 'NOR', 'SWE')\n",
    "-- Generate Country-level subtotals\n",
    "GROUP BY Country, ROLLUP(Gender)\n",
    "ORDER BY Country ASC, Gender ASC;"
   ]
  },
  {
   "attachments": {},
   "cell_type": "markdown",
   "metadata": {},
   "source": [
    "All group-level subtotals"
   ]
  },
  {
   "cell_type": "code",
   "execution_count": null,
   "metadata": {
    "vscode": {
     "languageId": "sql"
    }
   },
   "outputs": [],
   "source": [
    "-- Count the medals per gender and medal type\n",
    "SELECT\n",
    "  Gender,\n",
    "  Medal,\n",
    "  COUNT(*) AS Awards\n",
    "FROM Summer_Medals\n",
    "WHERE\n",
    "  Year = 2012\n",
    "  AND Country = 'RUS'\n",
    "-- Get all possible group-level subtotals\n",
    "GROUP BY CUBE(Gender, Medal)\n",
    "ORDER BY Gender ASC, Medal ASC;"
   ]
  },
  {
   "attachments": {},
   "cell_type": "markdown",
   "metadata": {},
   "source": [
    "Cleaning up results"
   ]
  },
  {
   "cell_type": "code",
   "execution_count": null,
   "metadata": {
    "vscode": {
     "languageId": "sql"
    }
   },
   "outputs": [],
   "source": [
    "SELECT\n",
    "  -- Replace the nulls in the columns with meaningful text\n",
    "  COALESCE(Country, 'All countries') AS Country,\n",
    "  COALESCE(Gender, 'All genders') AS Gender,\n",
    "  COUNT(*) AS Awards\n",
    "FROM Summer_Medals\n",
    "WHERE\n",
    "  Year = 2004\n",
    "  AND Medal = 'Gold'\n",
    "  AND Country IN ('DEN', 'NOR', 'SWE')\n",
    "GROUP BY ROLLUP(Country, Gender)\n",
    "ORDER BY Country ASC, Gender ASC;"
   ]
  },
  {
   "attachments": {},
   "cell_type": "markdown",
   "metadata": {},
   "source": [
    "Summarizing results"
   ]
  },
  {
   "cell_type": "code",
   "execution_count": null,
   "metadata": {
    "vscode": {
     "languageId": "sql"
    }
   },
   "outputs": [],
   "source": [
    "WITH Country_Medals AS (\n",
    "  SELECT\n",
    "    Country,\n",
    "    COUNT(*) AS Medals\n",
    "  FROM Summer_Medals\n",
    "  WHERE Year = 2000\n",
    "    AND Medal = 'Gold'\n",
    "  GROUP BY Country)\n",
    "\n",
    "  SELECT\n",
    "    Country,\n",
    "    -- Rank countries by the medals awarded\n",
    "    RANK() OVER (ORDER BY Medals DESC) AS Rank\n",
    "  FROM Country_Medals\n",
    "  ORDER BY Rank ASC;"
   ]
  },
  {
   "cell_type": "code",
   "execution_count": null,
   "metadata": {
    "vscode": {
     "languageId": "sql"
    }
   },
   "outputs": [],
   "source": [
    "WITH Country_Medals AS (\n",
    "  SELECT\n",
    "    Country,\n",
    "    COUNT(*) AS Medals\n",
    "  FROM Summer_Medals\n",
    "  WHERE Year = 2000\n",
    "    AND Medal = 'Gold'\n",
    "  GROUP BY Country),\n",
    "\n",
    "  Country_Ranks AS (\n",
    "  SELECT\n",
    "    Country,\n",
    "    RANK() OVER (ORDER BY Medals DESC) AS Rank\n",
    "  FROM Country_Medals\n",
    "  ORDER BY Rank ASC)\n",
    "\n",
    "-- Compress the countries column\n",
    "SELECT STRING_AGG(Country, ', ')\n",
    "FROM Country_Ranks\n",
    "-- Select only the top three ranks\n",
    "WHERE Rank <= 3;"
   ]
  }
 ],
 "metadata": {
  "language_info": {
   "name": "python"
  },
  "orig_nbformat": 4
 },
 "nbformat": 4,
 "nbformat_minor": 2
}
