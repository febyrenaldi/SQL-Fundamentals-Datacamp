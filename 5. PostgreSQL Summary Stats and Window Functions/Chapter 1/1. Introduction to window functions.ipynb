{
 "cells": [
  {
   "attachments": {},
   "cell_type": "markdown",
   "metadata": {},
   "source": [
    "Numbering rows"
   ]
  },
  {
   "cell_type": "code",
   "execution_count": null,
   "metadata": {
    "vscode": {
     "languageId": "sql"
    }
   },
   "outputs": [],
   "source": [
    "SELECT\n",
    "  *,\n",
    "  -- Assign numbers to each row\n",
    "  ROW_NUMBER() OVER() AS Row_N\n",
    "FROM Summer_Medals\n",
    "ORDER BY Row_N ASC;"
   ]
  },
  {
   "attachments": {},
   "cell_type": "markdown",
   "metadata": {},
   "source": [
    "Numbering Olympic games in ascending order"
   ]
  },
  {
   "cell_type": "code",
   "execution_count": null,
   "metadata": {
    "vscode": {
     "languageId": "sql"
    }
   },
   "outputs": [],
   "source": [
    "SELECT\n",
    "  *,\n",
    "  ROW_NUMBER() OVER() AS Row_N -- Assign numbers to each year\n",
    "FROM(\n",
    "  SELECT DISTINCT Year\n",
    "  FROM Summer_Medals\n",
    "  ORDER BY Year ASC\n",
    "  ) AS Years_of_Olympics -- New data (Years_of_Olympics)\n",
    "ORDER BY year ASC;  "
   ]
  },
  {
   "attachments": {},
   "cell_type": "markdown",
   "metadata": {},
   "source": [
    "Numbering Olympic games in descending order"
   ]
  },
  {
   "cell_type": "code",
   "execution_count": null,
   "metadata": {
    "vscode": {
     "languageId": "sql"
    }
   },
   "outputs": [],
   "source": [
    "SELECT\n",
    "  Year,\n",
    "  -- Assign the lowest numbers to the most recent years\n",
    "  ROW_NUMBER() OVER (ORDER BY Year DESC) AS Row_N -- Order Row_N based on Year Descending\n",
    "FROM ( \n",
    "  SELECT DISTINCT Year\n",
    "  FROM Summer_Medals\n",
    ") AS Years_of_Olympics -- Create new table as Years_of_Olympics\n",
    "ORDER BY Year;"
   ]
  },
  {
   "attachments": {},
   "cell_type": "markdown",
   "metadata": {},
   "source": [
    "Numbering Olympic athletes by medals earned"
   ]
  },
  {
   "cell_type": "code",
   "execution_count": null,
   "metadata": {
    "vscode": {
     "languageId": "sql"
    }
   },
   "outputs": [],
   "source": [
    "SELECT\n",
    "  -- Count the number of medals each athlete has earned\n",
    "  Athlete,\n",
    "  COUNT(*) AS Total_Medals -- Total medals for each athlete ()\n",
    "FROM Summer_Medals\n",
    "GROUP BY Athlete\n",
    "ORDER BY Total_Medals DESC;"
   ]
  },
  {
   "cell_type": "code",
   "execution_count": null,
   "metadata": {
    "vscode": {
     "languageId": "sql"
    }
   },
   "outputs": [],
   "source": [
    "WITH athlete_medals AS ( -- Crate CTE as athlete_medals\n",
    "  SELECT\n",
    "    -- Count the number of medals each athlete has earned\n",
    "    athlete,\n",
    "    COUNT(*) AS total_medals\n",
    "  FROM summer_medals\n",
    "  GROUP BY athlete)\n",
    "\n",
    "SELECT -- Select from CTE of athlete_medals\n",
    "  \n",
    "  -- Number each athlete by how many medals they've earned\n",
    "  athlete,\n",
    "  total_medals,\n",
    "  ROW_NUMBER() OVER (ORDER BY total_medals DESC) AS Row_N\n",
    "FROM athlete_medals\n",
    "ORDER BY total_medals DESC;"
   ]
  },
  {
   "attachments": {},
   "cell_type": "markdown",
   "metadata": {},
   "source": [
    "Reigning weightlifting champions"
   ]
  },
  {
   "cell_type": "code",
   "execution_count": null,
   "metadata": {
    "vscode": {
     "languageId": "sql"
    }
   },
   "outputs": [],
   "source": [
    "SELECT\n",
    "  -- Return each year's champions' countries\n",
    "  Year,\n",
    "  Country AS champion\n",
    "FROM Summer_Medals\n",
    "WHERE\n",
    "  Discipline = 'Weightlifting' AND\n",
    "  Event = '69KG' AND\n",
    "  Gender = 'Men' AND\n",
    "  Medal = 'Gold';"
   ]
  },
  {
   "attachments": {},
   "cell_type": "markdown",
   "metadata": {},
   "source": [
    "Reigning weightlifting champions"
   ]
  },
  {
   "cell_type": "code",
   "execution_count": null,
   "metadata": {
    "vscode": {
     "languageId": "sql"
    }
   },
   "outputs": [],
   "source": [
    "SELECT\n",
    "  -- Return each year's champions' countries\n",
    "  Year,\n",
    "  Country AS champion\n",
    "FROM Summer_Medals\n",
    "WHERE\n",
    "  Discipline = 'Weightlifting' AND\n",
    "  Event = '69KG' AND\n",
    "  Gender = 'Men' AND\n",
    "  Medal = 'Gold';"
   ]
  },
  {
   "cell_type": "code",
   "execution_count": null,
   "metadata": {
    "vscode": {
     "languageId": "sql"
    }
   },
   "outputs": [],
   "source": [
    "WITH Weightlifting_Gold AS ( -- Create CTE as Weightlifting_Gold\n",
    "  SELECT\n",
    "    -- Return each year's champions' countries\n",
    "    Year,\n",
    "    Country AS champion\n",
    "  FROM Summer_Medals\n",
    "  WHERE\n",
    "    Discipline = 'Weightlifting' AND\n",
    "    Event = '69KG' AND\n",
    "    Gender = 'Men' AND\n",
    "    Medal = 'Gold')\n",
    "\n",
    "SELECT\n",
    "  Year, \n",
    "  Champion,\n",
    "  -- Fetch the previous year's champion\n",
    "  LAG(Champion) OVER(ORDER BY Year ASC) AS Last_Champion\n",
    "FROM Weightlifting_Gold\n",
    "ORDER BY Year ASC;"
   ]
  },
  {
   "attachments": {},
   "cell_type": "markdown",
   "metadata": {},
   "source": [
    "Reigning champions by gender"
   ]
  },
  {
   "cell_type": "code",
   "execution_count": null,
   "metadata": {
    "vscode": {
     "languageId": "sql"
    }
   },
   "outputs": [],
   "source": [
    "WITH Tennis_Gold AS ( -- Create CTE as Tennis_Gold\n",
    "  SELECT DISTINCT\n",
    "    Gender, \n",
    "    Year, \n",
    "    Country\n",
    "  FROM Summer_Medals\n",
    "  WHERE\n",
    "    Year >= 2000 AND\n",
    "    Event = 'Javelin Throw' AND\n",
    "    Medal = 'Gold')\n",
    "\n",
    "SELECT\n",
    "  Gender, \n",
    "  Year,\n",
    "  Country AS Champion,\n",
    "  -- Fetch the previous year's champion by gender\n",
    "  LAG(Country) OVER (PARTITION BY Gender\n",
    "                         ORDER BY Year ASC) AS Last_Champion\n",
    "FROM Tennis_Gold\n",
    "ORDER BY Gender ASC, Year ASC;"
   ]
  },
  {
   "attachments": {},
   "cell_type": "markdown",
   "metadata": {},
   "source": [
    "Reigning champions by gender and event"
   ]
  },
  {
   "cell_type": "code",
   "execution_count": null,
   "metadata": {
    "vscode": {
     "languageId": "sql"
    }
   },
   "outputs": [],
   "source": [
    "WITH Athletics_Gold AS (\n",
    "  SELECT DISTINCT\n",
    "    Gender, Year, Event, Country\n",
    "  FROM Summer_Medals\n",
    "  WHERE\n",
    "    Year >= 2000 AND\n",
    "    Discipline = 'Athletics' AND\n",
    "    Event IN ('100M', '10000M') AND\n",
    "    Medal = 'Gold')\n",
    "\n",
    "SELECT\n",
    "  Gender, Year, Event,\n",
    "  Country AS Champion,\n",
    "  -- Fetch the previous year's champion by gender and event\n",
    "  LAG(Country) OVER (PARTITION BY Gender, Event\n",
    "                         ORDER BY Year ASC) AS Last_Champion\n",
    "FROM Athletics_Gold\n",
    "ORDER BY Event ASC, Gender ASC, Year ASC;"
   ]
  }
 ],
 "metadata": {
  "language_info": {
   "name": "python"
  },
  "orig_nbformat": 4
 },
 "nbformat": 4,
 "nbformat_minor": 2
}
