{
 "cells": [
  {
   "attachments": {},
   "cell_type": "markdown",
   "metadata": {},
   "source": [
    "A review of the LIKE operator"
   ]
  },
  {
   "cell_type": "code",
   "execution_count": null,
   "metadata": {
    "vscode": {
     "languageId": "sql"
    }
   },
   "outputs": [],
   "source": [
    "-- Select all columns\n",
    "SELECT *\n",
    "FROM film\n",
    "-- Select only records that begin with the word 'GOLD'\n",
    "WHERE title LIKE 'GOLD%';"
   ]
  },
  {
   "cell_type": "code",
   "execution_count": null,
   "metadata": {
    "vscode": {
     "languageId": "sql"
    }
   },
   "outputs": [],
   "source": [
    "SELECT *\n",
    "FROM film\n",
    "-- Select only records that end with the word 'GOLD'\n",
    "WHERE title LIKE '%GOLD';"
   ]
  },
  {
   "cell_type": "code",
   "execution_count": null,
   "metadata": {
    "vscode": {
     "languageId": "sql"
    }
   },
   "outputs": [],
   "source": [
    "SELECT *\n",
    "FROM film\n",
    "-- Select only records that contain the word 'GOLD'\n",
    "WHERE title LIKE '%GOLD%';"
   ]
  },
  {
   "attachments": {},
   "cell_type": "markdown",
   "metadata": {},
   "source": [
    "What is a tsvector"
   ]
  },
  {
   "cell_type": "code",
   "execution_count": null,
   "metadata": {
    "vscode": {
     "languageId": "sql"
    }
   },
   "outputs": [],
   "source": [
    "-- Select the film description as a tsvector\n",
    "SELECT to_tsvector(description)\n",
    "FROM film;"
   ]
  },
  {
   "attachments": {},
   "cell_type": "markdown",
   "metadata": {},
   "source": [
    "Basic full-text search"
   ]
  },
  {
   "cell_type": "code",
   "execution_count": null,
   "metadata": {
    "vscode": {
     "languageId": "sql"
    }
   },
   "outputs": [],
   "source": [
    "-- Select the title and description\n",
    "SELECT\n",
    "    title,\n",
    "    description\n",
    "FROM film\n",
    "-- Convert the title to a tsvector and match it against the tsquery \n",
    "WHERE to_tsvector(title) @@ to_tsquery('elf');"
   ]
  },
  {
   "attachments": {},
   "cell_type": "markdown",
   "metadata": {},
   "source": [
    "User-defined data types"
   ]
  },
  {
   "cell_type": "code",
   "execution_count": null,
   "metadata": {
    "vscode": {
     "languageId": "sql"
    }
   },
   "outputs": [],
   "source": [
    "-- Create an enumerated data type, compass_position\n",
    "CREATE TYPE compass_position AS ENUM (\n",
    "  \t-- Use the four cardinal directions\n",
    "  \t'North', \n",
    "  \t'West',\n",
    "  \t'South', \n",
    "  \t'East'\n",
    ");"
   ]
  },
  {
   "cell_type": "code",
   "execution_count": null,
   "metadata": {
    "vscode": {
     "languageId": "sql"
    }
   },
   "outputs": [],
   "source": [
    "-- Create an enumerated data type, compass_position\n",
    "CREATE TYPE compass_position AS ENUM (\n",
    "  \t-- Use the four cardinal directions\n",
    "  \t'North', \n",
    "  \t'South',\n",
    "  \t'East', \n",
    "  \t'West'\n",
    ");\n",
    "-- Confirm the new data type is in the pg_type system table\n",
    "SELECT typname\n",
    "FROM pg_type\n",
    "WHERE typname='compass_position';"
   ]
  },
  {
   "attachments": {},
   "cell_type": "markdown",
   "metadata": {},
   "source": [
    "Getting info about user-defined data types"
   ]
  },
  {
   "cell_type": "code",
   "execution_count": null,
   "metadata": {
    "vscode": {
     "languageId": "sql"
    }
   },
   "outputs": [],
   "source": [
    "-- Select the column name, data type and udt name columns\n",
    "SELECT\n",
    "    column_name,\n",
    "    data_type,\n",
    "    udt_name\n",
    "FROM INFORMATION_SCHEMA.COLUMNS \n",
    "-- Filter by the rating column in the film table\n",
    "WHERE table_name = 'film' AND column_name = 'rating';"
   ]
  },
  {
   "cell_type": "code",
   "execution_count": null,
   "metadata": {
    "vscode": {
     "languageId": "sql"
    }
   },
   "outputs": [],
   "source": [
    "SELECT *\n",
    "FROM pg_type \n",
    "WHERE typname='mpaa_rating'"
   ]
  },
  {
   "attachments": {},
   "cell_type": "markdown",
   "metadata": {},
   "source": [
    "User-defined functions in Sakila"
   ]
  },
  {
   "cell_type": "code",
   "execution_count": null,
   "metadata": {
    "vscode": {
     "languageId": "sql"
    }
   },
   "outputs": [],
   "source": [
    "-- Select the film title and inventory ids\n",
    "SELECT\n",
    "\tf.title,\n",
    "\ti.inventory_id\n",
    "FROM film AS f\n",
    "-- Join the film table to the inventory table\n",
    "INNER JOIN inventory AS i\n",
    "ON f.film_id = i.film_id"
   ]
  },
  {
   "cell_type": "code",
   "execution_count": null,
   "metadata": {
    "vscode": {
     "languageId": "sql"
    }
   },
   "outputs": [],
   "source": [
    "-- Select the film title, rental and inventory ids\n",
    "SELECT \n",
    "\tf.title, \n",
    "    i.inventory_id,\n",
    "    -- Determine whether the inventory is held by a customer\n",
    "    inventory_held_by_customer(i.inventory_id) AS held_by_cust\n",
    "FROM film as f \n",
    "\t-- Join the film table to the inventory table\n",
    "INNER JOIN inventory AS i \n",
    "ON f.film_id=i.film_id "
   ]
  },
  {
   "cell_type": "code",
   "execution_count": null,
   "metadata": {
    "vscode": {
     "languageId": "sql"
    }
   },
   "outputs": [],
   "source": [
    "-- Select the film title and inventory ids\n",
    "SELECT \n",
    "\tf.title, \n",
    "    i.inventory_id,\n",
    "    -- Determine whether the inventory is held by a customer\n",
    "    inventory_held_by_customer(i.inventory_id) as held_by_cust\n",
    "FROM film as f \n",
    "INNER JOIN inventory AS i \n",
    "ON f.film_id=i.film_id\n",
    "-- Only include results where the held_by_cust is not null \n",
    "WHERE inventory_held_by_customer(i.inventory_id) IS NOT NULL"
   ]
  },
  {
   "attachments": {},
   "cell_type": "markdown",
   "metadata": {},
   "source": [
    "Enabling extensions"
   ]
  },
  {
   "cell_type": "code",
   "execution_count": null,
   "metadata": {
    "vscode": {
     "languageId": "sql"
    }
   },
   "outputs": [],
   "source": [
    "-- Enable the pg_trgm extension\n",
    "CREATE EXTENSION IF NOT EXISTS pg_trgm;"
   ]
  },
  {
   "cell_type": "code",
   "execution_count": null,
   "metadata": {
    "vscode": {
     "languageId": "sql"
    }
   },
   "outputs": [],
   "source": [
    "-- Select all rows extensions\n",
    "SELECT * \n",
    "FROM pg_extension;"
   ]
  },
  {
   "attachments": {},
   "cell_type": "markdown",
   "metadata": {},
   "source": [
    "Measuring similarity between two strings"
   ]
  },
  {
   "cell_type": "code",
   "execution_count": null,
   "metadata": {
    "vscode": {
     "languageId": "sql"
    }
   },
   "outputs": [],
   "source": [
    "-- Select the title and description columns\n",
    "SELECT \n",
    "  title, \n",
    "  description,\n",
    "  -- Calculate the similarity\n",
    "  similarity(title, description)\n",
    "FROM film"
   ]
  },
  {
   "attachments": {},
   "cell_type": "markdown",
   "metadata": {},
   "source": [
    "Levenshtein distance examples"
   ]
  },
  {
   "cell_type": "code",
   "execution_count": null,
   "metadata": {
    "vscode": {
     "languageId": "sql"
    }
   },
   "outputs": [],
   "source": [
    "-- Select the title and description columns\n",
    "SELECT  \n",
    "  title, \n",
    "  description,\n",
    "  -- Calculate the levenshtein distance\n",
    "  levenshtein(title, 'JET NEIGHBOR') AS distance\n",
    "FROM film\n",
    "ORDER BY 3"
   ]
  },
  {
   "attachments": {},
   "cell_type": "markdown",
   "metadata": {},
   "source": [
    "Putting it all together"
   ]
  },
  {
   "cell_type": "code",
   "execution_count": null,
   "metadata": {
    "vscode": {
     "languageId": "sql"
    }
   },
   "outputs": [],
   "source": [
    "-- Select the title and description columns\n",
    "SELECT  \n",
    "  title, \n",
    "  description \n",
    "FROM  film\n",
    "-- Match \"Astounding Drama\" in the description\n",
    "WHERE to_tsvector(description) @@ to_tsquery('Astounding & Drama');"
   ]
  },
  {
   "cell_type": "code",
   "execution_count": null,
   "metadata": {
    "vscode": {
     "languageId": "sql"
    }
   },
   "outputs": [],
   "source": [
    "SELECT \n",
    "  title, \n",
    "  description, \n",
    "  -- Calculate the similarity\n",
    "  similarity(description, 'Astounding Drama') \n",
    "FROM film \n",
    "WHERE to_tsvector(description) @@ to_tsquery('Astounding & Drama') \n",
    "ORDER BY similarity(description, 'Astounding Drama') DESC;"
   ]
  }
 ],
 "metadata": {
  "kernelspec": {
   "display_name": "Python 3",
   "language": "python",
   "name": "python3"
  },
  "language_info": {
   "name": "python",
   "version": "3.10.0"
  },
  "orig_nbformat": 4
 },
 "nbformat": 4,
 "nbformat_minor": 2
}
