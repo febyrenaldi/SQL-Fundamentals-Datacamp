{
 "cells": [
  {
   "attachments": {},
   "cell_type": "markdown",
   "metadata": {},
   "source": [
    "Getting information about your database"
   ]
  },
  {
   "cell_type": "code",
   "execution_count": null,
   "metadata": {
    "vscode": {
     "languageId": "sql"
    }
   },
   "outputs": [],
   "source": [
    " -- Select all columns from the TABLES system database\n",
    " SELECT * \n",
    " FROM INFORMATION_SCHEMA.TABLES\n",
    " -- Filter by schema\n",
    "WHERE table_schema = 'public';"
   ]
  },
  {
   "cell_type": "code",
   "execution_count": null,
   "metadata": {
    "vscode": {
     "languageId": "sql"
    }
   },
   "outputs": [],
   "source": [
    " -- Select all columns from the COLUMNS system database\n",
    "SELECT * \n",
    "FROM INFORMATION_SCHEMA.COLUMNS\n",
    "WHERE table_name = 'actor';"
   ]
  },
  {
   "attachments": {},
   "cell_type": "markdown",
   "metadata": {},
   "source": [
    "Determining data types"
   ]
  },
  {
   "cell_type": "code",
   "execution_count": null,
   "metadata": {
    "vscode": {
     "languageId": "sql"
    }
   },
   "outputs": [],
   "source": [
    "-- Get the column name and data type\n",
    "SELECT\n",
    " \tcolumn_name, \n",
    "    data_type\n",
    "-- From the system database information schema\n",
    "FROM INFORMATION_SCHEMA.COLUMNS \n",
    "-- For the customer table\n",
    "WHERE table_name = 'customer'"
   ]
  },
  {
   "attachments": {},
   "cell_type": "markdown",
   "metadata": {},
   "source": [
    "Interval data types"
   ]
  },
  {
   "cell_type": "code",
   "execution_count": null,
   "metadata": {
    "vscode": {
     "languageId": "sql"
    }
   },
   "outputs": [],
   "source": [
    "SELECT\n",
    " \t-- Select the rental and return dates\n",
    "\trental_date,\n",
    "\treturn_date,\n",
    " \t-- Calculate the expected_return_date\n",
    "\trental_date + INTERVAL  '3 days'  AS expected_return_date\n",
    "FROM rental;"
   ]
  },
  {
   "attachments": {},
   "cell_type": "markdown",
   "metadata": {},
   "source": [
    "Accessing data in an ARRAY"
   ]
  },
  {
   "cell_type": "code",
   "execution_count": null,
   "metadata": {
    "vscode": {
     "languageId": "sql"
    }
   },
   "outputs": [],
   "source": [
    "-- Select the title and special features column \n",
    "SELECT \n",
    "  title, \n",
    "  special_features \n",
    "FROM film;"
   ]
  },
  {
   "cell_type": "code",
   "execution_count": null,
   "metadata": {
    "vscode": {
     "languageId": "sql"
    }
   },
   "outputs": [],
   "source": [
    "-- Select the title and special features column \n",
    "SELECT \n",
    "  title, \n",
    "  special_features \n",
    "FROM film\n",
    "-- Use the array index of the special_features column\n",
    "WHERE 'Trailers' = ANY (special_features);"
   ]
  },
  {
   "cell_type": "code",
   "execution_count": null,
   "metadata": {
    "vscode": {
     "languageId": "sql"
    }
   },
   "outputs": [],
   "source": [
    "-- Select the title and special features column \n",
    "SELECT \n",
    "  title, \n",
    "  special_features \n",
    "FROM film\n",
    "-- Use the array index of the special_features column\n",
    "WHERE special_features[2] = 'Deleted Scenes';"
   ]
  },
  {
   "attachments": {},
   "cell_type": "markdown",
   "metadata": {},
   "source": [
    "Searching an ARRAY with ANY"
   ]
  },
  {
   "cell_type": "code",
   "execution_count": null,
   "metadata": {
    "vscode": {
     "languageId": "sql"
    }
   },
   "outputs": [],
   "source": [
    "SELECT\n",
    "  title, \n",
    "  special_features \n",
    "FROM film \n",
    "-- Modify the query to use the ANY function \n",
    "WHERE 'Trailers' = ANY (special_features);"
   ]
  },
  {
   "attachments": {},
   "cell_type": "markdown",
   "metadata": {},
   "source": [
    "Searching an ARRAY with @>"
   ]
  },
  {
   "cell_type": "code",
   "execution_count": null,
   "metadata": {
    "vscode": {
     "languageId": "sql"
    }
   },
   "outputs": [],
   "source": [
    "SELECT \n",
    "  title, \n",
    "  special_features \n",
    "FROM film \n",
    "-- Filter where special_features contains 'Deleted Scenes'\n",
    "WHERE special_features @> ARRAY['Deleted Scenes'];"
   ]
  }
 ],
 "metadata": {
  "kernelspec": {
   "display_name": "Python 3",
   "language": "python",
   "name": "python3"
  },
  "language_info": {
   "name": "python",
   "version": "3.10.0"
  },
  "orig_nbformat": 4
 },
 "nbformat": 4,
 "nbformat_minor": 2
}
