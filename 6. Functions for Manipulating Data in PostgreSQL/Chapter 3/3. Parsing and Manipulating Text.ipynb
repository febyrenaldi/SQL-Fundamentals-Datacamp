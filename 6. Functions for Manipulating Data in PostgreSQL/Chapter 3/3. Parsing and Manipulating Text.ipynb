{
 "cells": [
  {
   "attachments": {},
   "cell_type": "markdown",
   "metadata": {},
   "source": [
    "Concatenating strings"
   ]
  },
  {
   "cell_type": "code",
   "execution_count": null,
   "metadata": {
    "vscode": {
     "languageId": "sql"
    }
   },
   "outputs": [],
   "source": [
    "-- Concatenate the first_name and last_name and email \n",
    "SELECT first_name || ' ' || last_name  || ' <' || email || '>' AS full_email\n",
    "FROM customer"
   ]
  },
  {
   "cell_type": "code",
   "execution_count": null,
   "metadata": {
    "vscode": {
     "languageId": "sql"
    }
   },
   "outputs": [],
   "source": [
    "-- Concatenate the first_name and last_name and email\n",
    "SELECT CONCAT(first_name, ' ', last_name,  ' <', email, '>') AS full_email\n",
    "FROM customer"
   ]
  },
  {
   "attachments": {},
   "cell_type": "markdown",
   "metadata": {},
   "source": [
    "Changing the case of string data"
   ]
  },
  {
   "cell_type": "code",
   "execution_count": null,
   "metadata": {
    "vscode": {
     "languageId": "sql"
    }
   },
   "outputs": [],
   "source": [
    "SELECT \n",
    "  -- Concatenate the category name to coverted to uppercase\n",
    "  -- to the film title converted to title case\n",
    "  UPPER(c.name) || ': ' || INITCAP(f.title) AS film_category, \n",
    "  -- Convert the description column to lowercase\n",
    "  LOWER(f.description) AS description\n",
    "FROM \n",
    "  film AS f \n",
    "  INNER JOIN film_category AS fc \n",
    "  \tON f.film_id = fc.film_id \n",
    "  INNER JOIN category AS c \n",
    "  \tON fc.category_id = c.category_id;"
   ]
  },
  {
   "attachments": {},
   "cell_type": "markdown",
   "metadata": {},
   "source": [
    "Replacing string data"
   ]
  },
  {
   "cell_type": "code",
   "execution_count": null,
   "metadata": {
    "vscode": {
     "languageId": "sql"
    }
   },
   "outputs": [],
   "source": [
    "SELECT \n",
    "  -- Replace whitespace in the film title with an underscore\n",
    "  REPLACE(title, ' ', '_') AS title\n",
    "FROM film; "
   ]
  },
  {
   "attachments": {},
   "cell_type": "markdown",
   "metadata": {},
   "source": [
    "Determining the length of strings"
   ]
  },
  {
   "cell_type": "code",
   "execution_count": null,
   "metadata": {
    "vscode": {
     "languageId": "sql"
    }
   },
   "outputs": [],
   "source": [
    "SELECT \n",
    "  -- Select the title and description columns\n",
    "  title,\n",
    "  description,\n",
    "  -- Determine the length of the description column\n",
    "  CHAR_LENGTH(description) AS desc_len\n",
    "FROM film;"
   ]
  },
  {
   "attachments": {},
   "cell_type": "markdown",
   "metadata": {},
   "source": [
    "Truncating strings"
   ]
  },
  {
   "cell_type": "code",
   "execution_count": null,
   "metadata": {
    "vscode": {
     "languageId": "sql"
    }
   },
   "outputs": [],
   "source": [
    "SELECT \n",
    "  -- Select the first 50 characters of description\n",
    "  LEFT(description, 50) AS short_desc\n",
    "FROM \n",
    "  film AS f"
   ]
  },
  {
   "attachments": {},
   "cell_type": "markdown",
   "metadata": {},
   "source": [
    "Extracting substrings from text data"
   ]
  },
  {
   "cell_type": "code",
   "execution_count": null,
   "metadata": {
    "vscode": {
     "languageId": "sql"
    }
   },
   "outputs": [],
   "source": [
    "SELECT \n",
    "  -- Select only the street name from the address table\n",
    "  SUBSTRING(address FROM POSITION(' ' IN address)+1 FOR LENGTH(address))\n",
    "FROM \n",
    "  address;"
   ]
  },
  {
   "attachments": {},
   "cell_type": "markdown",
   "metadata": {},
   "source": [
    "Combining functions for string manipulation"
   ]
  },
  {
   "cell_type": "code",
   "execution_count": null,
   "metadata": {
    "vscode": {
     "languageId": "sql"
    }
   },
   "outputs": [],
   "source": [
    "SELECT\n",
    "  -- Extract the characters to the left of the '@'\n",
    " SUBSTRING(email FOR POSITION('@' IN email)-1) AS username,\n",
    "  -- Extract the characters to the right of the '@'\n",
    " SUBSTRING(email FROM POSITION('@' IN email)+1 FOR CHAR_LENGTH(email)) AS domain\n",
    "FROM customer;"
   ]
  },
  {
   "attachments": {},
   "cell_type": "markdown",
   "metadata": {},
   "source": [
    "Padding"
   ]
  },
  {
   "cell_type": "code",
   "execution_count": null,
   "metadata": {
    "vscode": {
     "languageId": "sql"
    }
   },
   "outputs": [],
   "source": [
    "-- Concatenate the padded first_name and last_name \n",
    "SELECT \n",
    "\tRPAD(first_name, LENGTH(first_name)+1) || last_name AS full_name\n",
    "FROM customer;"
   ]
  },
  {
   "cell_type": "code",
   "execution_count": null,
   "metadata": {
    "vscode": {
     "languageId": "sql"
    }
   },
   "outputs": [],
   "source": [
    "-- Concatenate the first_name and last_name \n",
    "SELECT \n",
    "\tfirst_name || LPAD(last_name, LENGTH(last_name)+1) AS full_name\n",
    "FROM customer; "
   ]
  },
  {
   "cell_type": "code",
   "execution_count": null,
   "metadata": {
    "vscode": {
     "languageId": "sql"
    }
   },
   "outputs": [],
   "source": [
    "-- Concatenate the first_name and last_name \n",
    "SELECT \n",
    "\tRPAD(first_name, LENGTH(first_name)+1) \n",
    "    || RPAD(last_name, LENGTH(last_name)+2, ' <') \n",
    "    || RPAD(email, LENGTH(email)+1, '>') AS full_email\n",
    "FROM customer; "
   ]
  },
  {
   "attachments": {},
   "cell_type": "markdown",
   "metadata": {},
   "source": [
    "The TRIM function"
   ]
  },
  {
   "cell_type": "code",
   "execution_count": null,
   "metadata": {
    "vscode": {
     "languageId": "sql"
    }
   },
   "outputs": [],
   "source": [
    "-- Concatenate the uppercase category name and film title\n",
    "SELECT \n",
    "  CONCAT(UPPER(c.name), ': ', f.title) AS film_category, \n",
    "  -- Truncate the description remove trailing whitespace\n",
    "  TRIM(LEFT(description, 50)) AS film_desc\n",
    "FROM film AS f \n",
    "INNER JOIN film_category AS fc \n",
    "ON f.film_id = fc.film_id \n",
    "INNER JOIN category AS c \n",
    "ON fc.category_id = c.category_id;"
   ]
  },
  {
   "attachments": {},
   "cell_type": "markdown",
   "metadata": {},
   "source": [
    "Putting it all together"
   ]
  },
  {
   "cell_type": "code",
   "execution_count": null,
   "metadata": {
    "vscode": {
     "languageId": "sql"
    }
   },
   "outputs": [],
   "source": [
    "SELECT \n",
    "  UPPER(c.name) || ': ' || f.title AS film_category, \n",
    "  -- Truncate the description without cutting off a word\n",
    "  LEFT(description, 50 - \n",
    "    -- Subtract the position of the first whitespace character\n",
    "    position(' ' IN REVERSE(LEFT(description, 50)))\n",
    "  ) \n",
    "FROM \n",
    "  film AS f \n",
    "  INNER JOIN film_category AS fc \n",
    "  \tON f.film_id = fc.film_id \n",
    "  INNER JOIN category AS c \n",
    "  \tON fc.category_id = c.category_id;"
   ]
  }
 ],
 "metadata": {
  "language_info": {
   "name": "python"
  },
  "orig_nbformat": 4
 },
 "nbformat": 4,
 "nbformat_minor": 2
}
