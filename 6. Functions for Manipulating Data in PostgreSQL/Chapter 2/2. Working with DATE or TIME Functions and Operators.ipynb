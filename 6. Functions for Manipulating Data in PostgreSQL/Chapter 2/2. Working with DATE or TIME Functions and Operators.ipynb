{
 "cells": [
  {
   "attachments": {},
   "cell_type": "markdown",
   "metadata": {},
   "source": [
    "Adding and subtracting date and time values"
   ]
  },
  {
   "cell_type": "code",
   "execution_count": null,
   "metadata": {
    "vscode": {
     "languageId": "sql"
    }
   },
   "outputs": [],
   "source": [
    "SELECT \n",
    "    f.title, \n",
    "    f.rental_duration,\n",
    "    -- Calculate the number of days rented\n",
    "    r.return_date - r.rental_date AS days_rented\n",
    "FROM film AS f\n",
    "INNER JOIN inventory AS i \n",
    "ON f.film_id = i.film_id\n",
    "INNER JOIN rental AS r \n",
    "ON i.inventory_id = r.inventory_id\n",
    "ORDER BY f.title;"
   ]
  },
  {
   "cell_type": "code",
   "execution_count": null,
   "metadata": {
    "vscode": {
     "languageId": "sql"
    }
   },
   "outputs": [],
   "source": [
    "SELECT \n",
    "\tf.title, \n",
    "\tf.rental_duration,\n",
    "    -- Calculate the number of days rented\n",
    "\tAGE(r.return_date, r.rental_date) AS days_rented\n",
    "FROM film AS f\n",
    "INNER JOIN inventory AS i \n",
    "ON f.film_id = i.film_id\n",
    "INNER JOIN rental AS r \n",
    "ON i.inventory_id = r.inventory_id\n",
    "ORDER BY f.title;"
   ]
  },
  {
   "attachments": {},
   "cell_type": "markdown",
   "metadata": {},
   "source": [
    "INTERVAL arithmetic"
   ]
  },
  {
   "cell_type": "code",
   "execution_count": null,
   "metadata": {
    "vscode": {
     "languageId": "sql"
    }
   },
   "outputs": [],
   "source": [
    "SELECT\n",
    "\tf.title,\n",
    " \t-- Convert the rental_duration to an interval\n",
    "    INTERVAL '1' day * f.rental_duration,\n",
    " \t-- Calculate the days rented as we did previously\n",
    "    r.return_date - r.rental_date AS days_rented\n",
    "FROM film AS f\n",
    "INNER JOIN inventory AS i \n",
    "ON f.film_id = i.film_id\n",
    "INNER JOIN rental AS r \n",
    "ON i.inventory_id = r.inventory_id\n",
    "-- Filter the query to exclude outstanding rentals\n",
    "WHERE r.return_date IS NOT NULL\n",
    "ORDER BY f.title;"
   ]
  },
  {
   "attachments": {},
   "cell_type": "markdown",
   "metadata": {},
   "source": [
    "Calculating the expected return date"
   ]
  },
  {
   "cell_type": "code",
   "execution_count": null,
   "metadata": {
    "vscode": {
     "languageId": "sql"
    }
   },
   "outputs": [],
   "source": [
    "SELECT\n",
    "    f.title,\n",
    "\tr.rental_date,\n",
    "    r.return_date,\n",
    "    f.rental_duration,\n",
    "    -- Add the rental duration to the rental date\n",
    "    INTERVAL '1' day * f.rental_duration + rental_date AS expected_return_date,\n",
    "    r.return_date\n",
    "FROM film AS f\n",
    "    INNER JOIN inventory AS i ON f.film_id = i.film_id\n",
    "    INNER JOIN rental AS r ON i.inventory_id = r.inventory_id\n",
    "ORDER BY f.title;"
   ]
  },
  {
   "attachments": {},
   "cell_type": "markdown",
   "metadata": {},
   "source": [
    "Working with the current date and time"
   ]
  },
  {
   "cell_type": "code",
   "execution_count": null,
   "metadata": {
    "vscode": {
     "languageId": "sql"
    }
   },
   "outputs": [],
   "source": [
    "-- Select the current timestamp\n",
    "SELECT NOW();"
   ]
  },
  {
   "cell_type": "code",
   "execution_count": null,
   "metadata": {
    "vscode": {
     "languageId": "sql"
    }
   },
   "outputs": [],
   "source": [
    "-- Select the current date\n",
    "SELECT CURRENT_DATE;"
   ]
  },
  {
   "cell_type": "code",
   "execution_count": null,
   "metadata": {
    "vscode": {
     "languageId": "sql"
    }
   },
   "outputs": [],
   "source": [
    "--Select the current timestamp without a timezone\n",
    "SELECT CAST( NOW() AS timestamp )"
   ]
  },
  {
   "cell_type": "code",
   "execution_count": null,
   "metadata": {
    "vscode": {
     "languageId": "sql"
    }
   },
   "outputs": [],
   "source": [
    "SELECT \n",
    "\t-- Select the current date\n",
    "\tCURRENT_DATE,\n",
    "    -- CAST the result of the NOW() function to a date\n",
    "    CAST( NOW() AS date )"
   ]
  },
  {
   "attachments": {},
   "cell_type": "markdown",
   "metadata": {},
   "source": [
    "Manipulating the current date and time"
   ]
  },
  {
   "cell_type": "code",
   "execution_count": null,
   "metadata": {
    "vscode": {
     "languageId": "sql"
    }
   },
   "outputs": [],
   "source": [
    "--Select the current timestamp without timezone\n",
    "SELECT  CURRENT_TIMESTAMP::timestamp AS right_now;"
   ]
  },
  {
   "cell_type": "code",
   "execution_count": null,
   "metadata": {
    "vscode": {
     "languageId": "sql"
    }
   },
   "outputs": [],
   "source": [
    "SELECT\n",
    "    CURRENT_TIMESTAMP::timestamp AS right_now,\n",
    "    INTERVAL '5 days' + CURRENT_TIMESTAMP AS five_days_from_now;"
   ]
  },
  {
   "cell_type": "code",
   "execution_count": null,
   "metadata": {
    "vscode": {
     "languageId": "sql"
    }
   },
   "outputs": [],
   "source": [
    "SELECT\n",
    "    CURRENT_TIMESTAMP(0)::timestamp AS right_now,   \n",
    "    interval '5 days' + CURRENT_TIMESTAMP(0) AS five_days_from_now;"
   ]
  },
  {
   "attachments": {},
   "cell_type": "markdown",
   "metadata": {},
   "source": [
    "Using EXTRACT"
   ]
  },
  {
   "cell_type": "code",
   "execution_count": null,
   "metadata": {
    "vscode": {
     "languageId": "sql"
    }
   },
   "outputs": [],
   "source": [
    "SELECT \n",
    "  -- Extract day of week from rental_date\n",
    "  EXTRACT(dow FROM rental_date) AS dayofweek\n",
    "FROM rental \n",
    "LIMIT 100;"
   ]
  },
  {
   "cell_type": "code",
   "execution_count": null,
   "metadata": {
    "vscode": {
     "languageId": "sql"
    }
   },
   "outputs": [],
   "source": [
    "-- Extract day of week from rental_date\n",
    "SELECT \n",
    "  EXTRACT(dow FROM rental_date) AS dayofweek, \n",
    "  -- Count the number of rentals\n",
    "  COUNT(rental_id) as rentals \n",
    "FROM rental \n",
    "GROUP BY 1;"
   ]
  },
  {
   "attachments": {},
   "cell_type": "markdown",
   "metadata": {},
   "source": [
    "Using DATE_TRUNC"
   ]
  },
  {
   "cell_type": "code",
   "execution_count": null,
   "metadata": {
    "vscode": {
     "languageId": "sql"
    }
   },
   "outputs": [],
   "source": [
    "-- Truncate rental_date by year\n",
    "SELECT DATE_TRUNC('Year', rental_date) AS rental_year\n",
    "FROM rental;"
   ]
  },
  {
   "cell_type": "code",
   "execution_count": null,
   "metadata": {
    "vscode": {
     "languageId": "sql"
    }
   },
   "outputs": [],
   "source": [
    "-- Truncate rental_date by month\n",
    "SELECT DATE_TRUNC('Month', rental_date) AS rental_month\n",
    "FROM rental;"
   ]
  },
  {
   "cell_type": "code",
   "execution_count": null,
   "metadata": {
    "vscode": {
     "languageId": "sql"
    }
   },
   "outputs": [],
   "source": [
    "-- Truncate rental_date by day of the month \n",
    "SELECT DATE_TRUNC('Day', rental_date) AS rental_day \n",
    "FROM rental;"
   ]
  },
  {
   "cell_type": "code",
   "execution_count": null,
   "metadata": {
    "vscode": {
     "languageId": "sql"
    }
   },
   "outputs": [],
   "source": [
    "SELECT \n",
    "  DATE_TRUNC('day', rental_date) AS rental_day,\n",
    "  -- Count total number of rentals \n",
    "  COUNT(rental_id) AS rentals \n",
    "FROM rental\n",
    "GROUP BY 1;"
   ]
  },
  {
   "attachments": {},
   "cell_type": "markdown",
   "metadata": {},
   "source": [
    "Putting it all together"
   ]
  },
  {
   "cell_type": "code",
   "execution_count": null,
   "metadata": {
    "vscode": {
     "languageId": "sql"
    }
   },
   "outputs": [],
   "source": [
    "SELECT \n",
    "  -- Extract the day of week date part from the rental_date\n",
    "  EXTRACT(dow FROM rental_date) AS dayofweek,\n",
    "  AGE(return_date, rental_date) AS rental_days\n",
    "FROM rental AS r \n",
    "WHERE \n",
    "  -- Use an INTERVAL for the upper bound of the rental_date \n",
    "  rental_date BETWEEN CAST('2005-05-01' AS DATE)\n",
    "   AND CAST('2005-05-01' AS DATE) + INTERVAL '90 day';;"
   ]
  },
  {
   "cell_type": "code",
   "execution_count": null,
   "metadata": {
    "vscode": {
     "languageId": "sql"
    }
   },
   "outputs": [],
   "source": [
    "SELECT \n",
    "  c.first_name || ' ' || c.last_name AS customer_name,\n",
    "  f.title,\n",
    "  r.rental_date,\n",
    "  -- Extract the day of week date part from the rental_date\n",
    "  EXTRACT(dow FROM r.rental_date) AS dayofweek,\n",
    "  AGE(r.return_date, r.rental_date) AS rental_days,\n",
    "  -- Use DATE_TRUNC to get days from the AGE function\n",
    "  CASE WHEN DATE_TRUNC('day', AGE(r.return_date, r.rental_date)) > \n",
    "  -- Calculate number of d\n",
    "    f.rental_duration * INTERVAL '1' day \n",
    "  THEN TRUE \n",
    "  ELSE FALSE END AS past_due \n",
    "FROM \n",
    "  film AS f \n",
    "  INNER JOIN inventory AS i \n",
    "  \tON f.film_id = i.film_id \n",
    "  INNER JOIN rental AS r \n",
    "  \tON i.inventory_id = r.inventory_id \n",
    "  INNER JOIN customer AS c \n",
    "  \tON c.customer_id = r.customer_id \n",
    "WHERE \n",
    "  -- Use an INTERVAL for the upper bound of the rental_date \n",
    "  r.rental_date BETWEEN CAST('2005-05-01' AS DATE) \n",
    "  AND CAST('2005-05-01' AS DATE) + INTERVAL '90 day';"
   ]
  }
 ],
 "metadata": {
  "kernelspec": {
   "display_name": "Python 3",
   "language": "python",
   "name": "python3"
  },
  "language_info": {
   "name": "python",
   "version": "3.10.0"
  },
  "orig_nbformat": 4
 },
 "nbformat": 4,
 "nbformat_minor": 2
}
